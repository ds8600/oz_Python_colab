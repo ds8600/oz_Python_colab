{
  "cells": [
    {
      "cell_type": "markdown",
      "metadata": {
        "id": "view-in-github",
        "colab_type": "text"
      },
      "source": [
        "<a href=\"https://colab.research.google.com/github/ds8600/oz_Python_colab/blob/main/Chapter0508_%E1%84%80%E1%85%AA%E1%84%8C%E1%85%A6.ipynb\" target=\"_parent\"><img src=\"https://colab.research.google.com/assets/colab-badge.svg\" alt=\"Open In Colab\"/></a>"
      ]
    },
    {
      "cell_type": "markdown",
      "metadata": {
        "id": "WXEwMsfUct7U"
      },
      "source": [
        "안녕하세요.<br><br>\n",
        "수강생 여러분~! Chapter05 ~ 08 수업은 잘 들으셨나요?\n",
        "\n",
        "Chapter05 ~ 08의 수업 내용을 바탕으로 아래 문제를 풀어주시면 됩니다.\n",
        "\n",
        "<br>\n",
        "\n",
        "\n",
        "[**답변 입력 방법**]\n",
        "\n",
        "문제 아래에 있는 코드 입력창에 정답코드를 작성하신 후  __▷ 버튼을 클릭해 코드를 실행__ 해보세요<br>"
      ]
    },
    {
      "cell_type": "markdown",
      "metadata": {
        "id": "qoyC9wF-3hvs"
      },
      "source": [
        "-----"
      ]
    },
    {
      "cell_type": "markdown",
      "metadata": {
        "id": "6Pqo-U4BJEzF"
      },
      "source": [
        "## 모험가들의 레벨업 도전\n",
        "\n",
        "### [배경 이야기]\n",
        "\n",
        "당신은 마법사, 전사, 도적, 힐러 네 명의 모험가를 이끄는 리더입니다.\n",
        "\n",
        "각 캐릭터는 힘, 민첩, 지능, 체력이라는 능력치를 가지고 있습니다. 이 능력치들을 이용해 다양한 도전을 해결하고 사냥을 통해 경험치를 얻어 레벨업을 해야 합니다.\n",
        "\n",
        "<br>\n",
        "\n",
        "### [동료 캐릭터와 능력치 정보]\n",
        "\n",
        "마법사: 힘(10), 민첩(20), 지능(80), 체력(50)\n",
        "\n",
        "전사: 힘(80), 민첩(30), 지능(20), 체력(100)\n",
        "\n",
        "도적: 힘(40), 민첩(80), 지능(30), 체력(60)\n",
        "\n",
        "힐러: 힘(20), 민첩(40), 지능(70), 체력(70)\n",
        "\n",
        "<br>\n",
        "\n",
        "* 변수명을 영어로 변경해서 풀어보세요 !"
      ]
    },
    {
      "cell_type": "markdown",
      "metadata": {
        "id": "zjczszKNJEzF"
      },
      "source": [
        "<br>\n",
        "\n",
        "__[문제 1: 첫 번째 사냥]__\n",
        "\n",
        "마법사는 몬스터를 사냥하기 위해 마법을 사용합니다.\n",
        "\n",
        "마법을 사용하려면 지능이 50 이상이어야 합니다.\n",
        "\n",
        "마법사의 지능이 50 이상인지 확인하세요."
      ]
    },
    {
      "cell_type": "code",
      "execution_count": 5,
      "metadata": {
        "colab": {
          "base_uri": "https://localhost:8080/"
        },
        "id": "H5Z7zFcQJEzF",
        "outputId": "420ce8c1-8bda-473c-9672-794fdfcb6aac"
      },
      "outputs": [
        {
          "output_type": "stream",
          "name": "stdout",
          "text": [
            "True\n"
          ]
        }
      ],
      "source": [
        "Mage_Strength = 10\n",
        "Mage_Agility = 20\n",
        "Mage_Intelligence = 80\n",
        "Mage_Stamina = 50\n",
        "Warrior_Strength = 80\n",
        "Warrior_Agility = 30\n",
        "Warrior_Intelligence = 20\n",
        "Warrior_Stamina = 100\n",
        "Rogue_Strength = 40\n",
        "Rogue_Agility = 80\n",
        "Rogue_Intelligence = 30\n",
        "Rogue_Stamina = 60\n",
        "Healer_Strength = 20\n",
        "Healer_Agility = 40\n",
        "Healer_Intelligence = 70\n",
        "Healer_Stamina = 70\n",
        "\n",
        "can_magic = Mage_Intelligence >= 50\n",
        "print(can_magic)\n"
      ]
    },
    {
      "cell_type": "markdown",
      "metadata": {
        "id": "q6Ht-dbUJEzF"
      },
      "source": [
        "<br>\n",
        "\n",
        "__[문제 2: 두 번째 사냥]__\n",
        "\n",
        "전사는 강력한 공격을 하기 위해 자신의 힘을 사용합니다.\n",
        "\n",
        "전사의 힘이 60 이상이고 체력이 80 이상인지 확인하세요."
      ]
    },
    {
      "cell_type": "code",
      "execution_count": 7,
      "metadata": {
        "colab": {
          "base_uri": "https://localhost:8080/"
        },
        "id": "0t_9Cqg3JEzG",
        "outputId": "aad113c7-56db-4f79-9ff9-7f831c6cc69c"
      },
      "outputs": [
        {
          "output_type": "stream",
          "name": "stdout",
          "text": [
            "True\n"
          ]
        }
      ],
      "source": [
        "can_powerfull_attack = Warrior_Strength >= 60 and Warrior_Stamina >= 80\n",
        "print(can_powerfull_attack)"
      ]
    },
    {
      "cell_type": "markdown",
      "metadata": {
        "id": "SOxQ4V1mJEzG"
      },
      "source": [
        "<br>\n",
        "\n",
        "__[문제 3: 세 번째 사냥]__\n",
        "\n",
        "도적은 민첩함을 이용해 몬스터를 회피하고 공격합니다.\n",
        "\n",
        "도적의 민첩이 70 이상이거나 힘이 50 이상인지 확인하세요."
      ]
    },
    {
      "cell_type": "code",
      "execution_count": 9,
      "metadata": {
        "colab": {
          "base_uri": "https://localhost:8080/"
        },
        "id": "y54WfCpaJEzG",
        "outputId": "57ae392b-5fb2-4ac8-f1e9-19598f6c1511"
      },
      "outputs": [
        {
          "output_type": "stream",
          "name": "stdout",
          "text": [
            "False\n"
          ]
        }
      ],
      "source": [
        "can_avoid_attack = Rogue_Agility >= 70 and Rogue_Strength >= 50\n",
        "print(can_avoid_attack)"
      ]
    },
    {
      "cell_type": "markdown",
      "metadata": {
        "id": "7_ilE2TsJEzG"
      },
      "source": [
        "<br>\n",
        "\n",
        "__[문제 4: 네 번째 사냥]__\n",
        "\n",
        "힐러는 파티의 체력을 회복시키기 위해 마법을 사용합니다.\n",
        "\n",
        "힐러의 지능이 60 이상이고, 체력이 50 이상인지 확인하세요."
      ]
    },
    {
      "cell_type": "code",
      "execution_count": 11,
      "metadata": {
        "colab": {
          "base_uri": "https://localhost:8080/"
        },
        "id": "HZUAfdLuJEzG",
        "outputId": "ac6566e6-b441-4c5d-8e47-98fefc8cdb84"
      },
      "outputs": [
        {
          "output_type": "stream",
          "name": "stdout",
          "text": [
            "True\n"
          ]
        }
      ],
      "source": [
        "can_heal = Healer_Intelligence >= 60 and Healer_Stamina >= 50\n",
        "print(can_heal)"
      ]
    },
    {
      "cell_type": "markdown",
      "metadata": {
        "id": "6W1oylhHJEzG"
      },
      "source": [
        "<br>\n",
        "\n",
        "__[문제 5: 레벨업]__\n",
        "\n",
        "모든 캐릭터가 사냥을 성공적으로 마쳤습니다. 이제 경험치를 얻어 레벨업을 해야 합니다.\n",
        "\n",
        "\n",
        "각 캐릭터의 경험치가 100 이상인지 print()를 이용해 확인해주세요.\n",
        "\n",
        "<br>\n",
        "\n",
        "경험치는 아래와 같습니다.\n",
        "\n",
        "마법사: 120\n",
        "\n",
        "전사: 150\n",
        "\n",
        "도적: 110\n",
        "\n",
        "힐러: 90\n",
        "\n"
      ]
    },
    {
      "cell_type": "code",
      "execution_count": 13,
      "metadata": {
        "colab": {
          "base_uri": "https://localhost:8080/"
        },
        "id": "I139qsnbJEzG",
        "outputId": "00b9bb17-7cdf-43f6-a9c7-de61a0f3a6c5"
      },
      "outputs": [
        {
          "output_type": "stream",
          "name": "stdout",
          "text": [
            "mage level up: True, warrior level up: True, rogue level up: True, healer level up: False\n"
          ]
        }
      ],
      "source": [
        "mage_experience = 120\n",
        "warrior_experience = 150\n",
        "rogue_experience = 110\n",
        "healer_experience = 90\n",
        "\n",
        "mage_level_up = mage_experience >= 100\n",
        "warrior_level_up = warrior_experience >= 100\n",
        "rogue_level_up = rogue_experience >= 100\n",
        "healer_level_up = healer_experience >= 100\n",
        "\n",
        "print(f\"mage level up: {mage_level_up}, warrior level up: {warrior_level_up}, rogue level up: {rogue_level_up}, healer level up: {healer_level_up}\")"
      ]
    }
  ],
  "metadata": {
    "colab": {
      "provenance": [],
      "include_colab_link": true
    },
    "kernelspec": {
      "display_name": "Python 3",
      "name": "python3"
    },
    "language_info": {
      "name": "python"
    }
  },
  "nbformat": 4,
  "nbformat_minor": 0
}