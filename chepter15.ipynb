{
  "nbformat": 4,
  "nbformat_minor": 0,
  "metadata": {
    "colab": {
      "provenance": [],
      "authorship_tag": "ABX9TyOd8/8vhhOQ7NSopnd3qkmY",
      "include_colab_link": true
    },
    "kernelspec": {
      "name": "python3",
      "display_name": "Python 3"
    },
    "language_info": {
      "name": "python"
    }
  },
  "cells": [
    {
      "cell_type": "markdown",
      "metadata": {
        "id": "view-in-github",
        "colab_type": "text"
      },
      "source": [
        "<a href=\"https://colab.research.google.com/github/ds8600/oz_Python_colab/blob/main/chepter15.ipynb\" target=\"_parent\"><img src=\"https://colab.research.google.com/assets/colab-badge.svg\" alt=\"Open In Colab\"/></a>"
      ]
    },
    {
      "cell_type": "markdown",
      "source": [
        "### for 문 목차\n",
        "1. for문(반복문)이란?\n",
        "1. for문 문법과 주의사항(콜론, 들여쓰기)\n",
        "1. for문 만들어 보기\n",
        "1. for문 작동원리\n",
        "1. for문에서 rabge()함수 활용하기\n",
        "1. for문에서 시퀀스 객체로 반복하기\n",
        "1. 예제로 for문 익혀보기"
      ],
      "metadata": {
        "id": "tLN8elBM0r_m"
      }
    },
    {
      "cell_type": "markdown",
      "source": [
        "## for문이란?\n",
        "* 프로그래밍 안에서 반복되는 작얿을 간단하게 처리하기 위해서 사용하는 기능"
      ],
      "metadata": {
        "id": "sZtrlGgU1TSO"
      }
    },
    {
      "cell_type": "code",
      "execution_count": 1,
      "metadata": {
        "id": "jYvDR-_WyIjs"
      },
      "outputs": [],
      "source": [
        "#2. for문으로 만들어보기\n",
        "# for 변수 in range(횟수):\n",
        "#    print()"
      ]
    },
    {
      "cell_type": "code",
      "source": [
        "#3. for문 만들어보기\n",
        "\n",
        "for i in range(5):\n",
        "    print(\"반복이 된다굿\")"
      ],
      "metadata": {
        "colab": {
          "base_uri": "https://localhost:8080/"
        },
        "id": "a0SbBng32N-T",
        "outputId": "37dc2e3c-6a2f-4347-ba48-1c2983d21b40"
      },
      "execution_count": 4,
      "outputs": [
        {
          "output_type": "stream",
          "name": "stdout",
          "text": [
            "반복이 된다굿\n",
            "반복이 된다굿\n",
            "반복이 된다굿\n",
            "반복이 된다굿\n",
            "반복이 된다굿\n"
          ]
        }
      ]
    },
    {
      "cell_type": "code",
      "source": [
        "# 4. for문의 흐름 확인\n",
        "\n",
        "for i in range(5):\n",
        "    print(\"반복이 되네 신기해\",i)"
      ],
      "metadata": {
        "colab": {
          "base_uri": "https://localhost:8080/"
        },
        "id": "cDySMlbC2d8r",
        "outputId": "b2de83c0-e527-412c-82ed-c6fe802273c6"
      },
      "execution_count": 5,
      "outputs": [
        {
          "output_type": "stream",
          "name": "stdout",
          "text": [
            "반복이 되네 신기해 0\n",
            "반복이 되네 신기해 1\n",
            "반복이 되네 신기해 2\n",
            "반복이 되네 신기해 3\n",
            "반복이 되네 신기해 4\n"
          ]
        }
      ]
    },
    {
      "cell_type": "code",
      "source": [
        "#5. for문에서 range() 함수 활용하기\n",
        "\n",
        "#for i in range(4,10):\n",
        "#    print(i)\n",
        "\n",
        "#for i in range(4,10,2):\n",
        "#   print(i)\n",
        "#for i in range(10,4,-1):\n",
        "#    print(i)\n",
        "\n",
        "for i in reversed(range(10)):\n",
        "    print(i)"
      ],
      "metadata": {
        "colab": {
          "base_uri": "https://localhost:8080/"
        },
        "id": "x4yA4sgC214q",
        "outputId": "84728bf7-58c3-4ec6-8ebd-b9c91a728f85"
      },
      "execution_count": 11,
      "outputs": [
        {
          "output_type": "stream",
          "name": "stdout",
          "text": [
            "9\n",
            "8\n",
            "7\n",
            "6\n",
            "5\n",
            "4\n",
            "3\n",
            "2\n",
            "1\n",
            "0\n"
          ]
        }
      ]
    },
    {
      "cell_type": "code",
      "source": [
        "#6. for문에서 시퀀스 객체로 반복하기\n",
        "\n",
        "과일 = [\"두리안\", \"망고\", \"바나나\", \"멜론\"]\n",
        "\n",
        "#for i in 과일:\n",
        "#    print(i)\n",
        "\n",
        "#for i in \"닥스훈트\":\n",
        "#    print(i, end=\"\")\n",
        "\n",
        "for i in reversed(\"닥스훈트\"):\n",
        "    print(i, end=\"\")"
      ],
      "metadata": {
        "colab": {
          "base_uri": "https://localhost:8080/"
        },
        "id": "TK1f3KJ43u0S",
        "outputId": "dd68aece-9c09-4701-bf10-1b6ae4fb7e8d"
      },
      "execution_count": 17,
      "outputs": [
        {
          "output_type": "stream",
          "name": "stdout",
          "text": [
            "트훈스닥"
          ]
        }
      ]
    },
    {
      "cell_type": "code",
      "source": [
        "#7. 예제로 for문 익혀보기\n",
        "\n",
        "# 문제 : 절대값 정수가 담긴 정수 변수와 그 정수의 부호를 차례 담은 부호 변수가 있다.\n",
        "# 두 변수를 이용해 실제 정수의 합을 구해주세요(True : 양수, False : 음수)\n",
        "\n",
        "정수 = [10, 5, 8]\n",
        "부호 = [True, False, True]\n",
        "\n",
        "합 = 0\n",
        "\n",
        "for k, v in zip(부호, 정수):\n",
        "    if k:\n",
        "        합 += v\n",
        "    else:\n",
        "        합 -= v\n",
        "\n",
        "print(f\"총 합은 {합}입니다.\")"
      ],
      "metadata": {
        "colab": {
          "base_uri": "https://localhost:8080/"
        },
        "id": "HL3362FL4k0y",
        "outputId": "790f16ff-a9cb-42b0-81e3-9b9db265ce65"
      },
      "execution_count": 21,
      "outputs": [
        {
          "output_type": "stream",
          "name": "stdout",
          "text": [
            "총 합은 13입니다.\n"
          ]
        }
      ]
    }
  ]
}