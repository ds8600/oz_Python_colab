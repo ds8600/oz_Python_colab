{
  "nbformat": 4,
  "nbformat_minor": 0,
  "metadata": {
    "colab": {
      "provenance": [],
      "authorship_tag": "ABX9TyNR2eV5sgcOiey2jHGmaVkm",
      "include_colab_link": true
    },
    "kernelspec": {
      "name": "python3",
      "display_name": "Python 3"
    },
    "language_info": {
      "name": "python"
    }
  },
  "cells": [
    {
      "cell_type": "markdown",
      "metadata": {
        "id": "view-in-github",
        "colab_type": "text"
      },
      "source": [
        "<a href=\"https://colab.research.google.com/github/ds8600/oz_Python_colab/blob/main/chapter9.ipynb\" target=\"_parent\"><img src=\"https://colab.research.google.com/assets/colab-badge.svg\" alt=\"Open In Colab\"/></a>"
      ]
    },
    {
      "cell_type": "markdown",
      "source": [
        "## 입력과 출력\n",
        "\n",
        "\n",
        "\n",
        "*   입력 : input()\n",
        "*   출력 : print()\n",
        "\n",
        "\n",
        "\n",
        "#### 함수와 메서드\n",
        ">함수 : 어디에 속해있지 않고 단독 모듈이라 함수를 그냥 호출하여 사용이 가능합니다. 예) print(), input()\n",
        "\n",
        "https://docs.python.org/ko/3/library/functions.html\n",
        "\n",
        ">메서드 : 함수의 클래스 안에 속해 있고 클래스의 멤버 변수들을 이용해서 구현돤 것\n",
        "예) \"까먹으신건가요?\".count(\"까\") / \"까먹으신건가요?\".index(\"까\")"
      ],
      "metadata": {
        "id": "IHSIrMpRGHRr"
      }
    },
    {
      "cell_type": "code",
      "execution_count": 2,
      "metadata": {
        "colab": {
          "base_uri": "https://localhost:8080/"
        },
        "id": "JynqQOswGBL4",
        "outputId": "959b874d-8622-4883-cf0f-6e7b4727f7e7"
      },
      "outputs": [
        {
          "output_type": "execute_result",
          "data": {
            "text/plain": [
              "1"
            ]
          },
          "metadata": {},
          "execution_count": 2
        }
      ],
      "source": [
        "\"까먹으신건가요?\".count(\"까\")"
      ]
    },
    {
      "cell_type": "code",
      "source": [
        " \"까먹으신건가요?\".index(\"까\")"
      ],
      "metadata": {
        "colab": {
          "base_uri": "https://localhost:8080/"
        },
        "id": "6BoExdqtH5rX",
        "outputId": "a1239d88-1538-4b37-c004-d5f88199295b"
      },
      "execution_count": 4,
      "outputs": [
        {
          "output_type": "execute_result",
          "data": {
            "text/plain": [
              "0"
            ]
          },
          "metadata": {},
          "execution_count": 4
        }
      ]
    },
    {
      "cell_type": "code",
      "source": [
        "숫자, 문자 = 5, \"5\"\n",
        "\n",
        "print(숫자, 문자)"
      ],
      "metadata": {
        "colab": {
          "base_uri": "https://localhost:8080/"
        },
        "id": "iTPtxkNxH6-W",
        "outputId": "7c6343fd-d311-4f55-e656-0681d0fdb65c"
      },
      "execution_count": 5,
      "outputs": [
        {
          "output_type": "stream",
          "name": "stdout",
          "text": [
            "5 5\n"
          ]
        }
      ]
    },
    {
      "cell_type": "code",
      "source": [
        "# 안녕하세요 x\n",
        "인사 = input(\"(우리학교 최고 존잘남)아... 안녕\")\n",
        "print((인사) + \" 눈부시게\")"
      ],
      "metadata": {
        "colab": {
          "base_uri": "https://localhost:8080/"
        },
        "id": "lKBubk6tIGKX",
        "outputId": "7027e7d7-8733-4662-829f-df5eb0f28d4a"
      },
      "execution_count": 15,
      "outputs": [
        {
          "output_type": "stream",
          "name": "stdout",
          "text": [
            "(우리학교 최고 존잘남)아... 안녕뭘 봐\n",
            "뭘 봐 눈부시게\n"
          ]
        }
      ]
    },
    {
      "cell_type": "code",
      "source": [
        "# int(), float(), str(), bool()\n",
        "\n",
        "정수 = input()\n",
        "정수 = int(정수)\n",
        "print(정수, type(정수))\n",
        "\n",
        "실수 = input()\n",
        "실수 = float(실수)\n",
        "print(실수, type(실수))"
      ],
      "metadata": {
        "colab": {
          "base_uri": "https://localhost:8080/"
        },
        "id": "oRaVTDaAIPTH",
        "outputId": "76abdc68-7d57-4413-a93e-9716319d7f07"
      },
      "execution_count": 17,
      "outputs": [
        {
          "output_type": "stream",
          "name": "stdout",
          "text": [
            "5\n",
            "5 <class 'int'>\n",
            "5\n",
            "5.0 <class 'float'>\n"
          ]
        }
      ]
    },
    {
      "cell_type": "code",
      "source": [
        "정수 = int(input())\n",
        "print(정수, type(정수))\n",
        "\n",
        "실수 = float(input())\n",
        "print(실수, type(실수))"
      ],
      "metadata": {
        "colab": {
          "base_uri": "https://localhost:8080/"
        },
        "id": "iAqXsnz-J-4P",
        "outputId": "4a85ca0f-2c3f-4c67-9874-21b21d8d783b"
      },
      "execution_count": 19,
      "outputs": [
        {
          "output_type": "stream",
          "name": "stdout",
          "text": [
            "5\n",
            "5 <class 'int'>\n",
            "5\n",
            "5.0 <class 'float'>\n"
          ]
        }
      ]
    },
    {
      "cell_type": "markdown",
      "source": [
        "그 외 입력값의 형변환이 가능한 종류\n",
        "* tuple()\n",
        "* list()\n",
        "* dict()\n",
        "* set()"
      ],
      "metadata": {
        "id": "9aUD0TWRKsxL"
      }
    },
    {
      "cell_type": "code",
      "source": [
        "넌센스, 정답 = input().split(\",\")\n",
        "print(f'넌센스 퀴즈 : {넌센스}')\n",
        "print(f'정답 : {정답}')"
      ],
      "metadata": {
        "colab": {
          "base_uri": "https://localhost:8080/"
        },
        "id": "N1XyZxyXKZ8O",
        "outputId": "c40368b5-a9b2-4564-d8f9-241df5530c8c"
      },
      "execution_count": 28,
      "outputs": [
        {
          "output_type": "stream",
          "name": "stdout",
          "text": [
            "스페인 에스파, 에스파냐\n",
            "넌센스 퀴즈 : 스페인 에스파\n",
            "정답 :  에스파냐\n"
          ]
        }
      ]
    },
    {
      "cell_type": "code",
      "source": [
        "#시퀑스 자료형에 다 지원되는 메소드\n",
        "번호1, 번호2, 번호3, 번호4 = input().split(\",\")\n",
        "\n",
        "번호1 = int(번호1)\n",
        "번호2 = int(번호2)\n",
        "번호3 = int(번호3)\n",
        "번호4 = int(번호4)\n",
        "\n",
        "print(type(번호1), 번호2, 번호3, 번호4)"
      ],
      "metadata": {
        "colab": {
          "base_uri": "https://localhost:8080/"
        },
        "id": "KS7nxBQNLUHW",
        "outputId": "df068372-06b7-4599-cb2a-63160d93b6a9"
      },
      "execution_count": 34,
      "outputs": [
        {
          "output_type": "stream",
          "name": "stdout",
          "text": [
            "2123, 123132, 12313, 123\n",
            "<class 'int'> 123132 12313 123\n"
          ]
        }
      ]
    },
    {
      "cell_type": "code",
      "source": [
        "#map()\n",
        "번호1, 번호2, 번호3, 번호4 = map(int, input().split(\",\"))\n",
        "print(type(번호1), 번호2, 번호3, 번호4)"
      ],
      "metadata": {
        "colab": {
          "base_uri": "https://localhost:8080/"
        },
        "id": "fyfhJ0RpNAGO",
        "outputId": "2f047265-8b9b-45ac-8050-da3869c914af"
      },
      "execution_count": 37,
      "outputs": [
        {
          "output_type": "stream",
          "name": "stdout",
          "text": [
            "11, 122 ,33 ,44\n",
            "<class 'int'> 122 33 44\n"
          ]
        }
      ]
    },
    {
      "cell_type": "code",
      "source": [
        "#레거시 : 누눈가 남겨두고간 코드\n",
        "#리펙토링 : 결과의 변경 없이 코드의 구조를 재조정하는 것\n",
        "#input()\n",
        "\n",
        "# fish__p , fish__s , fish__j = \"붕어빵(팥)\", \"붕어빵(슈크림)\", \"붕어빵(잡채)\"\n",
        "order_p, order_s, order_j = map(int, input('붕어빵(팥), 붕어빵(슈크림), 붕어빵(잡채)를 순서대로 개수를 입력하고 꼭 쉼표를 입력하고 그리고 안사는 붕어빵에는 0을 넣어줘. 숫자만!!').split(','))\n",
        "fish__p__sell , fish__s__sell , fish__j_sell = 2000, 2500, 3000\n",
        "order_p__pay, order_s__pay, order_j__pay = (fish__p__sell) * (order_p), (fish__s__sell) * (order_s), (fish__j_sell) * (order_j)\n",
        "total = order_p + order_s + order_j\n",
        "total_pay = (order_p__pay)+(order_s__pay)+(order_j__pay)\n",
        "\n",
        "print(f'주문이 완료되었습니다. 붕어빵(팥) {order_p}개, 붕어빵(슈크림) {order_s}개, 붕어빵(잡채) {order_j} 총 {total}개 결제 금액은 {total_pay}원 입니다.')"
      ],
      "metadata": {
        "colab": {
          "base_uri": "https://localhost:8080/"
        },
        "id": "dOXh3dhLOuBu",
        "outputId": "ebe31801-aef5-4d34-b592-12aa10fffae9"
      },
      "execution_count": 57,
      "outputs": [
        {
          "output_type": "stream",
          "name": "stdout",
          "text": [
            "붕어빵(팥), 붕어빵(슈크림), 붕어빵(잡채)를 순서대로 개수를 입력하고 꼭 쉼표를 입력하고 그리고 안사는 붕어빵에는 0을 넣어줘. 숫자만!!0, 2, 3\n",
            "주문이 완료되었습니다. 붕어빵(팥) 0개, 붕어빵(슈크림) 2개, 붕어빵(잡채) 3 총 5개 결제 금액은 14000원 입니다.\n"
          ]
        }
      ]
    },
    {
      "cell_type": "code",
      "source": [
        "#print() 함수에 기능을 이용해보겠습니다.\n",
        "\n",
        "print(\"초코칩\", \"민트\", \"샷추가\", \"휘핑크림\")\n",
        "print(\"초코칩\", \"민트\", \"샷추가\", \"휘핑크림\", sep = '/')\n",
        "print(\"초코칩\", \"민트\", \"샷추가\", \"휘핑크림\", sep = ':')\n",
        "print(\"초코칩\", \"민트\", \"샷추가\", \"휘핑크림\", sep = '\\n')"
      ],
      "metadata": {
        "colab": {
          "base_uri": "https://localhost:8080/"
        },
        "id": "mv9bC-qSYMhq",
        "outputId": "8dc695b1-7b43-4b7e-8459-cab4eebfd7de"
      },
      "execution_count": 59,
      "outputs": [
        {
          "output_type": "stream",
          "name": "stdout",
          "text": [
            "초코칩 민트 샷추가 휘핑크림\n",
            "초코칩/민트/샷추가/휘핑크림\n",
            "초코칩:민트:샷추가:휘핑크림\n",
            "초코칩\n",
            "민트\n",
            "샷추가\n",
            "휘핑크림\n"
          ]
        }
      ]
    },
    {
      "cell_type": "code",
      "source": [
        "#end\n",
        "print(\"초코칩\", \"민트\", \"샷추가\", \"휘핑크림\", end ='')\n",
        "print(\"초코칩\", \"민트\", \"샷추가\", \"휘핑크림\", end ='')\n",
        "print(\"초코칩\", \"민트\", \"샷추가\", \"휘핑크림\")\n"
      ],
      "metadata": {
        "colab": {
          "base_uri": "https://localhost:8080/"
        },
        "id": "KW7DqxE3Y6Hz",
        "outputId": "ea0ba143-8a19-4f44-d35f-66cb45f9ec07"
      },
      "execution_count": 61,
      "outputs": [
        {
          "output_type": "stream",
          "name": "stdout",
          "text": [
            "초코칩 민트 샷추가 휘핑크림초코칩 민트 샷추가 휘핑크림초코칩 민트 샷추가 휘핑크림\n"
          ]
        }
      ]
    }
  ]
}
