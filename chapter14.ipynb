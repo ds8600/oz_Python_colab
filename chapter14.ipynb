{
  "nbformat": 4,
  "nbformat_minor": 0,
  "metadata": {
    "colab": {
      "provenance": [],
      "authorship_tag": "ABX9TyMxYuM7RIG0XDbnxrxsU5f/",
      "include_colab_link": true
    },
    "kernelspec": {
      "name": "python3",
      "display_name": "Python 3"
    },
    "language_info": {
      "name": "python"
    }
  },
  "cells": [
    {
      "cell_type": "markdown",
      "metadata": {
        "id": "view-in-github",
        "colab_type": "text"
      },
      "source": [
        "<a href=\"https://colab.research.google.com/github/ds8600/oz_Python_colab/blob/main/chapter14.ipynb\" target=\"_parent\"><img src=\"https://colab.research.google.com/assets/colab-badge.svg\" alt=\"Open In Colab\"/></a>"
      ]
    },
    {
      "cell_type": "markdown",
      "source": [
        "### if문 목차\n",
        "1. if문이란?(i문의 기능 설명)\n",
        "1. if문 문법과 주의사항(콜론, 들여쓰기)\n",
        "1. if문의 흐름 (작동 원리)\n",
        "1. if문 중첩문\n",
        "1. if ~ else 문법과 증,;시힝(콜론, 들여쓰기)\n",
        "1. if ~ else문 흐름 (작동원리)\n",
        "1. 조건문 조건(True, False)\n",
        "1. 조건식 여러개 설정하기\n",
        "1. elif ~ if문\n",
        "1. 예제로 if문 익혀보기"
      ],
      "metadata": {
        "id": "oFONjnTldVeF"
      }
    },
    {
      "cell_type": "markdown",
      "source": [
        "###1. if문이란?\n",
        "* 특정 조건일때 코드를 실행하는 문법  \n",
        "\n",
        "        if 파이썬을 정복한다면:\n",
        "            개발자로 취직할 수 있다."
      ],
      "metadata": {
        "id": "SCHWB8n6eTai"
      }
    },
    {
      "cell_type": "code",
      "source": [
        "#2. if문 문법과 주의사항(콜론, 들여쓰기)\n",
        "개수 = int(input(\"붕어빵 몇개 사실건가요?\"))\n",
        "\n",
        "if 개수 > 3:\n",
        "    print(\"개당 1800원 입니다.\")"
      ],
      "metadata": {
        "colab": {
          "base_uri": "https://localhost:8080/"
        },
        "id": "q0TwwqZ1fqqZ",
        "outputId": "021219ae-ba11-42d4-9ddc-5a2ccc0bf891"
      },
      "execution_count": 3,
      "outputs": [
        {
          "output_type": "stream",
          "name": "stdout",
          "text": [
            "붕어빵 몇개 사실건가요?4\n",
            "개당 1800원 입니다.\n"
          ]
        }
      ]
    },
    {
      "cell_type": "code",
      "source": [
        "#3. if문의 흐름 (작동원리)\n",
        "#코드는 위에 아래 순서대로 작동합니다.\n",
        "\n",
        "# 2)개수라는 변수에 닿음 1) 입력을 받음\n",
        "개수 = int(input(\"붕어빵 몇개 사실건가요?\"))\n",
        "# 3) 개수 변수가 있네 값이 뭐지 4 > 3 True 또는 False\n",
        "if 개수 > 3:\n",
        "    print(\"개당 1800원 입니다.\") #4) 조건이 True면 if문 안에 코드가 실핼됨\n",
        "\n",
        "if 개수 <= 3:\n",
        "    print(\"개당 2000원 입니다.\")"
      ],
      "metadata": {
        "colab": {
          "base_uri": "https://localhost:8080/"
        },
        "id": "5hQ7bjKQgLnf",
        "outputId": "58cb7465-66cf-4f21-a469-7265d5bef15f"
      },
      "execution_count": 6,
      "outputs": [
        {
          "output_type": "stream",
          "name": "stdout",
          "text": [
            "붕어빵 몇개 사실건가요?3\n",
            "개당 2000원 입니다.\n"
          ]
        }
      ]
    },
    {
      "cell_type": "code",
      "source": [
        "#4. if 중첩문\n",
        "\n",
        "의문의_숫자 = 10\n",
        "\n",
        "if 의문의_숫자 >5:\n",
        "    if 의문의_숫자 <15:\n",
        "        print(\"의문의 숫자는 5보다 크고 10보다 작습니다.\")"
      ],
      "metadata": {
        "colab": {
          "base_uri": "https://localhost:8080/"
        },
        "id": "JR_itlCehQdR",
        "outputId": "fd0d345b-2880-4def-ef5e-853b93e08bb5"
      },
      "execution_count": 9,
      "outputs": [
        {
          "output_type": "stream",
          "name": "stdout",
          "text": [
            "의문의 숫자는 5보다 크고 10보다 작습니다.\n"
          ]
        }
      ]
    },
    {
      "cell_type": "code",
      "source": [
        "# 5. if ~ else 문법과 주의사항(콜론, 들여쓰기)\n",
        "# True 일때는 if문 안에 작성된 코드가 실행\n",
        "# False 일때는  else문 안에 작성된 코드가 실핼\n",
        "개수 = int(input(\"붕어빵 몇개 사실건가요?\"))\n",
        "\n",
        "if 개수 > 3:\n",
        "    print(\"개당 1800원 입니다.\") #4) 조건이 True면 if문 안에 코드가 실핼됨\n",
        "else:\n",
        "    print(\"개당 2000원 입니다.\")"
      ],
      "metadata": {
        "colab": {
          "base_uri": "https://localhost:8080/"
        },
        "id": "pjAhxB34h9l4",
        "outputId": "3a396bba-e239-4985-fee6-1c8e380779ef"
      },
      "execution_count": 11,
      "outputs": [
        {
          "output_type": "stream",
          "name": "stdout",
          "text": [
            "붕어빵 몇개 사실건가요?3\n",
            "개당 2000원 입니다.\n"
          ]
        }
      ]
    },
    {
      "cell_type": "code",
      "source": [
        "#6.if ~ else문 흐름(작동원리)\n",
        "\n",
        "개수 = int(input(\"붕어빵 몇개 사실건가요?\"))\n",
        "\n",
        "if 개수 > 3:\n",
        "    print(\"개당 1800원 입니다.\")\n",
        "else:\n",
        "    print(\"개당 2000원 입니다.\")"
      ],
      "metadata": {
        "id": "3g2uJdFwiVsw"
      },
      "execution_count": null,
      "outputs": []
    },
    {
      "cell_type": "code",
      "source": [
        "#7. 조건문 조건(True, False)\n",
        "# None\n",
        "if None:\n",
        "    print(True)\n",
        "else:\n",
        "    print(False)\n",
        "# 0\n",
        "if 0:\n",
        "    print(True)\n",
        "else:\n",
        "    print(False)\n",
        "# 1\n",
        "if 1:\n",
        "    print(True)\n",
        "else:\n",
        "    print(False)\n",
        "# 1.1\n",
        "if 1.1:\n",
        "    print(True)\n",
        "else:\n",
        "    print(False)\n",
        "# 모든 문자열은 True\n",
        "# hello\n",
        "if \"hello\":\n",
        "    print(True)\n",
        "else:\n",
        "    print(False)\n",
        "#\" \" 아무것도 없을때 --> False\n",
        "if \"\":\n",
        "    print(True)\n",
        "else:\n",
        "    print(False)\n",
        "# not\n",
        "if not True:\n",
        "    print(True)\n",
        "else:\n",
        "    print(False)\n",
        "\n",
        "if not \"\":\n",
        "    print(True)\n",
        "else:\n",
        "    print(False)"
      ],
      "metadata": {
        "colab": {
          "base_uri": "https://localhost:8080/"
        },
        "id": "uINZ7FRlluGc",
        "outputId": "82ae7683-e55f-4eeb-9810-82bfb35fad58"
      },
      "execution_count": 20,
      "outputs": [
        {
          "output_type": "stream",
          "name": "stdout",
          "text": [
            "False\n",
            "False\n",
            "True\n",
            "True\n",
            "True\n",
            "False\n",
            "False\n",
            "True\n"
          ]
        }
      ]
    },
    {
      "cell_type": "code",
      "source": [
        "#8 조건식 여러개 설정하기\n",
        "\n",
        "a, b = 10, 30\n",
        "\n",
        "if a==10 and b==30:\n",
        "    print(\"동일합니다.\")\n",
        "else:\n",
        "    print(\"동일하지 않습니다.\")\n",
        "\n",
        "if a==10 or b==30:\n",
        "    print(\"동일합니다.\")\n",
        "else:\n",
        "    print(\"동일하지 않습니다.\")\n",
        "\n",
        "if a>= 10 and a<20:\n",
        "    print(\"10보다 크고 20보다 작습니다.\")\n",
        "\n",
        "if 10<= a <30:\n",
        "    print(\"10보다 크고 30보다 작습니다.\")"
      ],
      "metadata": {
        "colab": {
          "base_uri": "https://localhost:8080/"
        },
        "id": "GD1xvJq3nPGf",
        "outputId": "78a81ad4-ff2e-4e28-a68b-d798991c85f2"
      },
      "execution_count": 29,
      "outputs": [
        {
          "output_type": "stream",
          "name": "stdout",
          "text": [
            "동일합니다.\n",
            "동일합니다.\n",
            "10보다 크고 20보다 작습니다.\n",
            "10보다 크고 30보다 작습니다.\n"
          ]
        }
      ]
    },
    {
      "cell_type": "code",
      "source": [
        "#9. elif ~ if문\n",
        "\n",
        "맛 = input(\"붕어빵 맛을 골라주세요(팥, 슈크리므, 잡채)\")\n",
        "\n",
        "if 맛 == \"팥\" :\n",
        "    print(f\"{맛}을 선택하셨습니다.\")\n",
        "elif 맛 == \"슈크림\" :\n",
        "    print(f\"{맛}을 선택하셨습니다.\")\n",
        "else :\n",
        "     print(f\"{맛}을 선택하셨습니다.\")"
      ],
      "metadata": {
        "colab": {
          "base_uri": "https://localhost:8080/"
        },
        "id": "2ofAXlecoS7e",
        "outputId": "e228f03d-db24-4524-c816-37d853e37a78"
      },
      "execution_count": 31,
      "outputs": [
        {
          "output_type": "stream",
          "name": "stdout",
          "text": [
            "붕어빵 맛을 골라주세요(팥, 슈크리므, 잡채)잡채\n",
            "잡채을 선택하셨습니다.\n"
          ]
        }
      ]
    },
    {
      "cell_type": "code",
      "source": [
        "#10. 예제로 if문 익혀보기\n",
        "#문제 : 단어 a의 가운데 글자를 반환하는 코드\n",
        "#조건 : 단어의 길이가 짝수라면 가운데 두글자를 출력하면 됩니다.\n",
        "\n",
        "#입력값1 : \"abcde\"\n",
        "#입력값2 : \"qwer\"\n",
        "\n",
        "a = input()\n",
        "# 코드를 작성해 주세요.\n",
        "if len(a)%2 <1:\n",
        "    print(a[len(a)//2-1:len(a)//2+1])\n",
        "else :\n",
        "    print(a[len(a)//2])\n"
      ],
      "metadata": {
        "colab": {
          "base_uri": "https://localhost:8080/"
        },
        "id": "aJhpmjOqo_MW",
        "outputId": "dee74e4e-7383-47d8-fdd1-47a2e8a9b4cb"
      },
      "execution_count": 48,
      "outputs": [
        {
          "output_type": "stream",
          "name": "stdout",
          "text": [
            "qwer\n",
            "we\n"
          ]
        }
      ]
    },
    {
      "cell_type": "code",
      "source": [
        "#영상답\n",
        "a = input()\n",
        "\n",
        "가운데_인덱스 = int(len(a) / 2)\n",
        "\n",
        "if len(a)%2 != 0:\n",
        "    print(a[가운데_인덱스])\n",
        "else:\n",
        "    print(a[가운데_인덱스-1 : 가운데_인덱스+1])"
      ],
      "metadata": {
        "colab": {
          "base_uri": "https://localhost:8080/"
        },
        "id": "l1foUcfJvA3s",
        "outputId": "5b7bc10d-ecb9-4d0d-88d3-cf26ce1cd7fa"
      },
      "execution_count": 52,
      "outputs": [
        {
          "output_type": "stream",
          "name": "stdout",
          "text": [
            "qwer\n",
            "we\n"
          ]
        }
      ]
    }
  ]
}