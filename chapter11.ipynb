{
  "nbformat": 4,
  "nbformat_minor": 0,
  "metadata": {
    "colab": {
      "provenance": [],
      "authorship_tag": "ABX9TyNroiMD72Jh26qrnYxidfz5",
      "include_colab_link": true
    },
    "kernelspec": {
      "name": "python3",
      "display_name": "Python 3"
    },
    "language_info": {
      "name": "python"
    }
  },
  "cells": [
    {
      "cell_type": "markdown",
      "metadata": {
        "id": "view-in-github",
        "colab_type": "text"
      },
      "source": [
        "<a href=\"https://colab.research.google.com/github/ds8600/oz_Python_colab/blob/main/chapter11.ipynb\" target=\"_parent\"><img src=\"https://colab.research.google.com/assets/colab-badge.svg\" alt=\"Open In Colab\"/></a>"
      ]
    },
    {
      "cell_type": "markdown",
      "source": [
        "##시퀀스 자료형\n",
        "* 문자열 :  \n",
        "            * 시퀀스형에서 사용할 수 있는 메소드 (count, index, split 등  \n",
        "            * 슬라이싱  \n",
        "            * 요소들로 이루어져 가능했던 기능들\n",
        "* list :  \n",
        "            * 시퀀스형에서 사용할 수 있는 메소드 (count, index, split 등  \n",
        "            * 슬라이싱  \n",
        "            * 요소들로 이루어져 가능했던 기능들  \n",
        "            * list 지원하는 다양한 메소드\n",
        "* tuple :  \n",
        "            * 리스트처럼 요소를 일렬로 저장하지만 안에 저장된 요소흫 변경, 추가, 삭제할 수 없다.  \n",
        "            * 값을 추가, 삭제, 변경할 수 없기 때문에, 사용하지 못하는 메소드가 많다.  \n",
        "            * tuple의 생성 방법은 tuple = 값, 값 또는 tuple = (값, 값)  \n",
        "            *그리고 엄청난 비밀이 숨겨져 있어요  \n",
        "            *튜플은 소괄호 입니다."
      ],
      "metadata": {
        "id": "-9S6ObQVkz4z"
      }
    },
    {
      "cell_type": "code",
      "execution_count": 9,
      "metadata": {
        "id": "_3Mxj-Xpkvfe",
        "colab": {
          "base_uri": "https://localhost:8080/"
        },
        "outputId": "f93dd619-50a4-4f54-c6e1-e00e794e327b"
      },
      "outputs": [
        {
          "output_type": "stream",
          "name": "stdout",
          "text": [
            "<class 'tuple'>\n",
            "(1, '이', 3.0)\n",
            "<class 'tuple'>\n",
            "(1, '이', 3.0)\n",
            "<class 'int'>\n",
            "1\n"
          ]
        }
      ],
      "source": [
        "# 리스트는 대괄호[], 튜플은 소괄호()\n",
        "튜풀 = (1, \"이\", 3.0)\n",
        "print(type(튜풀))\n",
        "print(튜풀)\n",
        "\n",
        "# 리스트 = [1, \"이\", 3.0]\n",
        "# print(type(리스트))\n",
        "# print(리스트)\n",
        "\n",
        "튜풀2 = 1, '이', 3.0\n",
        "print(type(튜풀2))\n",
        "print(튜풀2)\n",
        "\n",
        "# 하나의 값만 들어있는 튜풀만 만들고 싶다면?\n",
        "튜풀_나는솔로 = (1)\n",
        "print(type(튜풀_나는솔로))\n",
        "print(튜풀_나는솔로)"
      ]
    },
    {
      "cell_type": "code",
      "source": [
        "# 값 추가, 삭제, 변경 불가... 진실일까?\n",
        "\n",
        "print(튜풀)\n",
        "print(dir(튜풀))\n",
        "\n",
        "튜풀_리스트화 = list(튜풀)\n",
        "print(type((튜풀_리스트화)))"
      ],
      "metadata": {
        "colab": {
          "base_uri": "https://localhost:8080/"
        },
        "id": "h4DdTjU0RB9H",
        "outputId": "dc5583e6-7945-4d4f-ad8f-eb35250069aa"
      },
      "execution_count": 18,
      "outputs": [
        {
          "output_type": "stream",
          "name": "stdout",
          "text": [
            "(1, '이', 3.0)\n",
            "['__add__', '__class__', '__class_getitem__', '__contains__', '__delattr__', '__dir__', '__doc__', '__eq__', '__format__', '__ge__', '__getattribute__', '__getitem__', '__getnewargs__', '__getstate__', '__gt__', '__hash__', '__init__', '__init_subclass__', '__iter__', '__le__', '__len__', '__lt__', '__mul__', '__ne__', '__new__', '__reduce__', '__reduce_ex__', '__repr__', '__rmul__', '__setattr__', '__sizeof__', '__str__', '__subclasshook__', 'count', 'index']\n",
            "<class 'list'>\n"
          ]
        }
      ]
    },
    {
      "cell_type": "code",
      "source": [
        "#정말로 값의 삽입, 삭제 변경을 지원하지 않는지 확인\n",
        "\n",
        "# 튜풀.append(\"두리안\")\n",
        "# del 튜풀[2]\n",
        "# 튜풀[1] = '너만믿는다'\n",
        "print(튜풀)"
      ],
      "metadata": {
        "colab": {
          "base_uri": "https://localhost:8080/"
        },
        "id": "WDnVYLo-RsPm",
        "outputId": "dc78b056-0ac1-45c9-dd8d-5a6be6e07654"
      },
      "execution_count": 23,
      "outputs": [
        {
          "output_type": "stream",
          "name": "stdout",
          "text": [
            "(1, '이', 3.0)\n"
          ]
        }
      ]
    },
    {
      "cell_type": "code",
      "source": [
        "# 번외 잘 사용함!! **\n",
        "\n",
        "수강생 = \"중꺽그마\"\n",
        "\n",
        "수강생_list = list(수강생)\n",
        "수강생_tuple = tuple(수강생)\n",
        "\n",
        "print(수강생_list)\n",
        "print(수강생_tuple)\n",
        "\n",
        "수강생_list[1] = \"투\"\n",
        "print(수강생_list)\n",
        "\n",
        "# join 함수 공부 알고 있으면 코테에 좋아요.\n",
        "취뽀_수강생 = \" \".join(수강생_list)\n",
        "print(취뽀_수강생)"
      ],
      "metadata": {
        "colab": {
          "base_uri": "https://localhost:8080/"
        },
        "id": "e3PW3Y8nSOlW",
        "outputId": "5501b70e-0cae-4be3-8bbf-8a7b68ad1e68"
      },
      "execution_count": 32,
      "outputs": [
        {
          "output_type": "stream",
          "name": "stdout",
          "text": [
            "['중', '꺽', '그', '마']\n",
            "('중', '꺽', '그', '마')\n",
            "['중', '투', '그', '마']\n",
            "중 투 그 마\n"
          ]
        }
      ]
    },
    {
      "cell_type": "code",
      "source": [
        "# 공통점은 뭔가요?\n",
        "print(튜풀)\n",
        "# 길이를 구할수있어요\n",
        "len(튜풀)\n",
        "# 곱하기 연산 가능\n",
        "print(튜풀*3)\n",
        "# 튜풀은 요소들끼리 더 할 수 있다\n",
        "print(튜풀+튜풀)\n",
        "# 튜풀은 인덱싱이 가능\n",
        "print(튜풀[2])\n",
        "# 튜풀의 인덱스\n",
        "print(튜풀.index(3.0))\n",
        "# 튜풀 요소의 개수\n",
        "print(튜풀.count(1))\n",
        "# 튜풀도 슬라이싱이 가능하다\n",
        "print(튜풀[1:3])"
      ],
      "metadata": {
        "colab": {
          "base_uri": "https://localhost:8080/"
        },
        "id": "ohF2vx4TSxk2",
        "outputId": "7929af65-963a-4646-8a23-85c0b6309167"
      },
      "execution_count": 34,
      "outputs": [
        {
          "output_type": "stream",
          "name": "stdout",
          "text": [
            "(1, '이', 3.0)\n",
            "(1, '이', 3.0, 1, '이', 3.0, 1, '이', 3.0)\n",
            "(1, '이', 3.0, 1, '이', 3.0)\n",
            "3.0\n",
            "2\n",
            "1\n",
            "('이', 3.0)\n"
          ]
        }
      ]
    },
    {
      "cell_type": "markdown",
      "source": [
        "#tuple 왜 쓸까요?  \n",
        "(여러분을 다른 수강생들 보다 더 돋보이게 만들어줄 수 있어요)\n",
        "\n",
        "1. 3GO가 불가하기 때문입니다.(넣고, 삭제하고, 바꾸고) 무슨소리?  \n",
        "        \n",
        "        여러명이 코딩을 하는 경우 변경되면 안되는 변수를 건드리는 경우  \n",
        "        또는 값이 변경되면 안되는 중요한 데이터를 넣어서 보안적으로 관리하기 좋다.(은행계좌, 비밀번호 등등..)\n",
        "2. list는 tiple보다 무겁다.  \n",
        "       \n",
        "        단지 기능이 많아서 무거운걸까요?\n",
        "        파이썬은 C로 만들어졌습니다. ?? ㄴㄴ\n",
        "\n",
        "        파이썬은 동적배열을 지원합니다.  \n",
        "        - 처음 list = [1.2.3.4] 생성해서 4개에 값을 모두 넣었습니다.\n",
        "        - 문제는 그 다음 값을 추가할때 이미 공간이 다 찼기 때문에 추가 할당을 진행합니다. (파이썬은 추가할당시 메모리 크기는 4, 8, 16, 25... 더블링을 해줍니다.)   \n",
        "3. 리스트는 가변, 투풀은 불변이다.  \n",
        "\n",
        "        값이 고정 되어야 하거나, 크기가 작을 경우 튜풀을 권장한다.\n",
        "\n",
        "        "
      ],
      "metadata": {
        "id": "7C16nGd1U9G0"
      }
    },
    {
      "cell_type": "markdown",
      "source": [
        "* 가변객체외 , 불변객체(우리 이미 다 써봄.. 공부하다가 놀랄 수 있어요)\n",
        "* 파이썬 리스트의 동적배열\n",
        "* 이왕 이렇게 된거 자료구조 책을 한번 사보는 것도 추천합니다. (파이썬 클린코드)"
      ],
      "metadata": {
        "id": "NCIm8ICiXbMq"
      }
    }
  ]
}