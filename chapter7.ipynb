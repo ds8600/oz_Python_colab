{
  "nbformat": 4,
  "nbformat_minor": 0,
  "metadata": {
    "colab": {
      "provenance": [],
      "authorship_tag": "ABX9TyOoHcSBWIyohK4rqIZuk8Ei",
      "include_colab_link": true
    },
    "kernelspec": {
      "name": "python3",
      "display_name": "Python 3"
    },
    "language_info": {
      "name": "python"
    }
  },
  "cells": [
    {
      "cell_type": "markdown",
      "metadata": {
        "id": "view-in-github",
        "colab_type": "text"
      },
      "source": [
        "<a href=\"https://colab.research.google.com/github/ds8600/oz_Python_colab/blob/main/chapter7.ipynb\" target=\"_parent\"><img src=\"https://colab.research.google.com/assets/colab-badge.svg\" alt=\"Open In Colab\"/></a>"
      ]
    },
    {
      "cell_type": "markdown",
      "source": [
        "### 자료형 종류\n",
        "1. int(integer) : 정수형  \n",
        "2. float(float) : 실수  \n",
        "3. str(string) : 문자  \n",
        "4. bool(bool, boolean) : 참 또는 거짓, true 또는 false, 1 또는 0  \n",
        "\n",
        "--\n",
        "5. list  \n",
        "6. tuple  \n",
        "7. dict  \n",
        "8. set"
      ],
      "metadata": {
        "id": "QhtsmOlfqpnp"
      }
    },
    {
      "cell_type": "code",
      "execution_count": 6,
      "metadata": {
        "id": "AEzlXFrbqlLh"
      },
      "outputs": [],
      "source": [
        "이름 = \"이동엽\"\n",
        "나이 = 29\n",
        "키 = 152.5\n",
        "소속 = \"ozcoding_school\""
      ]
    },
    {
      "cell_type": "code",
      "source": [
        "print(type(이름))\n",
        "print(type(나이))\n",
        "print(type(키))\n",
        "print(type(소속))"
      ],
      "metadata": {
        "colab": {
          "base_uri": "https://localhost:8080/"
        },
        "id": "D8LFEtb6r3wz",
        "outputId": "50ff31f9-f877-4162-9312-858d3261eeff"
      },
      "execution_count": 7,
      "outputs": [
        {
          "output_type": "stream",
          "name": "stdout",
          "text": [
            "<class 'str'>\n",
            "<class 'int'>\n",
            "<class 'float'>\n",
            "<class 'str'>\n"
          ]
        }
      ]
    },
    {
      "cell_type": "code",
      "source": [
        "print(float(나이))\n",
        "print(int(키))\n",
        "print(\"5,\" \"5.0\")\n",
        "print(type(\"5\"), type(\"5.0\"))"
      ],
      "metadata": {
        "colab": {
          "base_uri": "https://localhost:8080/"
        },
        "id": "P9a570nese1b",
        "outputId": "897c0f32-83b0-40d6-ef89-66d2bd01a633"
      },
      "execution_count": 10,
      "outputs": [
        {
          "output_type": "stream",
          "name": "stdout",
          "text": [
            "29.0\n",
            "152\n",
            "5,5.0\n",
            "<class 'str'> <class 'str'>\n"
          ]
        }
      ]
    },
    {
      "cell_type": "markdown",
      "source": [
        "str : 문자열\n",
        "특징 : 시퀀스 자료형\n",
        "시퀀스란? 요소들이 연속적으로 이어진 자료형\n",
        "값 하나하나를 요소라고 합니다."
      ],
      "metadata": {
        "id": "BhteCXdbtXTl"
      }
    },
    {
      "cell_type": "code",
      "source": [
        "#0 인덱스\n",
        "print(소속)\n",
        "print(소속[0])\n",
        "print(소속[1])\n",
        "print(소속[2])\n",
        "print(소속[3])\n",
        "print(소속[4])\n",
        "print(소속[5])\n",
        "print(소속[6])\n",
        "print(소속[7])\n",
        "print(소속[8])\n",
        "print(소속[9])\n",
        "print(소속[10])"
      ],
      "metadata": {
        "colab": {
          "base_uri": "https://localhost:8080/"
        },
        "id": "fv05joHothgx",
        "outputId": "64d09856-c33c-4cfd-9694-e14c2b54dca3"
      },
      "execution_count": 13,
      "outputs": [
        {
          "output_type": "stream",
          "name": "stdout",
          "text": [
            "ozcoding_school\n",
            "o\n",
            "z\n",
            "c\n",
            "o\n",
            "d\n",
            "i\n",
            "n\n",
            "g\n",
            "_\n",
            "s\n",
            "c\n"
          ]
        }
      ]
    },
    {
      "cell_type": "code",
      "source": [
        "print(\"매\" in 소속)\n",
        "print(\"d\" in 소속)"
      ],
      "metadata": {
        "colab": {
          "base_uri": "https://localhost:8080/"
        },
        "id": "Swlehe4luZSB",
        "outputId": "059a2020-0900-4b6d-8a09-5f1b06839578"
      },
      "execution_count": 18,
      "outputs": [
        {
          "output_type": "stream",
          "name": "stdout",
          "text": [
            "False\n",
            "True\n"
          ]
        }
      ]
    },
    {
      "cell_type": "code",
      "source": [
        "# 문자열 즉 시퀀스 끼리 합치기\n",
        "\n",
        "\"13\" + \"금요일\""
      ],
      "metadata": {
        "colab": {
          "base_uri": "https://localhost:8080/",
          "height": 36
        },
        "id": "iJsl0ksOuqYo",
        "outputId": "0919dfed-cbd3-4f18-da1c-e132eb5d4990"
      },
      "execution_count": 21,
      "outputs": [
        {
          "output_type": "execute_result",
          "data": {
            "text/plain": [
              "'13금요일'"
            ],
            "application/vnd.google.colaboratory.intrinsic+json": {
              "type": "string"
            }
          },
          "metadata": {},
          "execution_count": 21
        }
      ]
    },
    {
      "cell_type": "code",
      "source": [
        "# 복사가 가능합니다.\n",
        "\n",
        "옛날게임 = \"바니바니 당근당근\" * 20\n",
        "print(옛날게임)\n",
        "\n",
        "len(옛날게임)"
      ],
      "metadata": {
        "colab": {
          "base_uri": "https://localhost:8080/"
        },
        "id": "lEjG5ezgvDI4",
        "outputId": "f20df610-6d09-4112-a027-9453740ccf40"
      },
      "execution_count": 26,
      "outputs": [
        {
          "output_type": "stream",
          "name": "stdout",
          "text": [
            "바니바니 당근당근바니바니 당근당근바니바니 당근당근바니바니 당근당근바니바니 당근당근바니바니 당근당근바니바니 당근당근바니바니 당근당근바니바니 당근당근바니바니 당근당근바니바니 당근당근바니바니 당근당근바니바니 당근당근바니바니 당근당근바니바니 당근당근바니바니 당근당근바니바니 당근당근바니바니 당근당근바니바니 당근당근바니바니 당근당근\n"
          ]
        },
        {
          "output_type": "execute_result",
          "data": {
            "text/plain": [
              "180"
            ]
          },
          "metadata": {},
          "execution_count": 26
        }
      ]
    },
    {
      "cell_type": "code",
      "source": [
        "퀴즈 = \"차 4대가 고장나면? 카포에라\"\n",
        "print(퀴즈[12:16])\n",
        "print(퀴즈[12:15])"
      ],
      "metadata": {
        "colab": {
          "base_uri": "https://localhost:8080/"
        },
        "id": "7AphfjqXyulV",
        "outputId": "73389d8a-6e62-4d0d-f942-b458b547d752"
      },
      "execution_count": 28,
      "outputs": [
        {
          "output_type": "stream",
          "name": "stdout",
          "text": [
            "카포에라\n",
            "카포에\n"
          ]
        }
      ]
    },
    {
      "cell_type": "code",
      "source": [
        "퀴즈[15]\n",
        "퀴즈[-1]"
      ],
      "metadata": {
        "colab": {
          "base_uri": "https://localhost:8080/",
          "height": 36
        },
        "id": "JTlcU54Sy9Hl",
        "outputId": "b26bb0dc-1711-4077-ba8f-f7c0c2ce52fb"
      },
      "execution_count": 31,
      "outputs": [
        {
          "output_type": "execute_result",
          "data": {
            "text/plain": [
              "'라'"
            ],
            "application/vnd.google.colaboratory.intrinsic+json": {
              "type": "string"
            }
          },
          "metadata": {},
          "execution_count": 31
        }
      ]
    },
    {
      "cell_type": "code",
      "source": [
        "생년월일 = \"2000.12.25\"\n",
        "년 = 생년월일[0:4]\n",
        "월 = 생년월일[5:7]\n",
        "일 = 생년월일[8:11]\n",
        "\n",
        "#2000 12 25\n",
        "print(생년월일[0:4], 생년월일[5:7], 생년월일[8:11]) #내가 한것\n",
        "\n",
        "\"\"\"\n",
        "년 = 생년월일[0:4]\n",
        "월 = 생년월일[5:7]\n",
        "일 = 생년월일[8:11]\n",
        "\"\"\"\n",
        "print(f'{년}, {월}, {일}') # 영상에서 한것 f-string  사용추천"
      ],
      "metadata": {
        "colab": {
          "base_uri": "https://localhost:8080/"
        },
        "id": "WyaogXbWzOZ1",
        "outputId": "787a6ce0-dd3f-4c72-a59a-6e559fe76721"
      },
      "execution_count": 46,
      "outputs": [
        {
          "output_type": "stream",
          "name": "stdout",
          "text": [
            "2000 12 25\n",
            "2000, 12, 25\n"
          ]
        }
      ]
    },
    {
      "cell_type": "code",
      "source": [
        "숫자 = \"7897962464654651651654\"\n",
        "\n",
        "#전체 출력\n",
        "print(숫자[::])\n",
        "\n",
        "#전체 출력 반대로\n",
        "print(숫자[::-1])\n",
        "\n",
        "#첫번째 인덱스 가준으로 2번씩 띄어쓰기 출력하기\n",
        "print(숫자[::2])\n",
        "\n",
        "#첫번째 인덱스 가준으로 2번씩 띄어쓰기 출력하기\n",
        "print(숫자[4:1:-1])\n",
        "print(숫자[4:1])"
      ],
      "metadata": {
        "colab": {
          "base_uri": "https://localhost:8080/"
        },
        "id": "hzQcUAgE1B58",
        "outputId": "44daeb95-6601-4d72-d403-928c211b8793"
      },
      "execution_count": 54,
      "outputs": [
        {
          "output_type": "stream",
          "name": "stdout",
          "text": [
            "7897962464654651651654\n",
            "4561561564564642697987\n",
            "79926645615\n",
            "979\n",
            "\n"
          ]
        }
      ]
    },
    {
      "cell_type": "code",
      "source": [
        "퀴즈 = \"스님이 공중에 뜬다를 4글자로 말하면? 어중이떠중이\"\n",
        "\n",
        "print(퀴즈[22:28])"
      ],
      "metadata": {
        "colab": {
          "base_uri": "https://localhost:8080/"
        },
        "id": "Wm2f3uhR32DJ",
        "outputId": "7e50e074-94f9-43f5-8f91-c9b5d4c78119"
      },
      "execution_count": 56,
      "outputs": [
        {
          "output_type": "stream",
          "name": "stdout",
          "text": [
            "어중이떠중이\n"
          ]
        }
      ]
    },
    {
      "cell_type": "code",
      "source": [
        "과일 = \"apple\"\n",
        "과일.count('p')"
      ],
      "metadata": {
        "colab": {
          "base_uri": "https://localhost:8080/"
        },
        "id": "WLiT3EbU4mwR",
        "outputId": "8672767e-4032-4929-a280-16ae4a5ba963"
      },
      "execution_count": 60,
      "outputs": [
        {
          "output_type": "execute_result",
          "data": {
            "text/plain": [
              "2"
            ]
          },
          "metadata": {},
          "execution_count": 60
        }
      ]
    },
    {
      "cell_type": "code",
      "source": [
        "과일[2]\n",
        "과일.index(\"p\")"
      ],
      "metadata": {
        "colab": {
          "base_uri": "https://localhost:8080/"
        },
        "id": "HD7PzhcQ40ao",
        "outputId": "e5449040-d368-4b64-c091-67c822ee2adc"
      },
      "execution_count": 62,
      "outputs": [
        {
          "output_type": "execute_result",
          "data": {
            "text/plain": [
              "1"
            ]
          },
          "metadata": {},
          "execution_count": 62
        }
      ]
    },
    {
      "cell_type": "code",
      "source": [
        "라라랜드 = \"사람들은 다른 사람들의 열정에 끌리게 되어있어 자신이 잊은 걸 상기시켜 주니까\"\n",
        "\n",
        "print(type(라라랜드)) #원하는 글자(인덱스) 가져오기\n",
        "print(라라랜드[30])\n",
        "print(라라랜드[31])\n",
        "print(라라랜드[0])\n",
        "print(라라랜드[1])\n",
        "\n",
        "print(\"랑\" in 라라랜드) # 안에 글자가 있는지\n",
        "print(\"사\" in 라라랜드)\n",
        "\n",
        "print(과일 + 라라랜드) # 인덱스 합치기\n",
        "\n",
        "print(len(라라랜드)) # 총 인덱스 수\n",
        "\n",
        "print(라라랜드.count(\"상\")) # 인덱스가 몇개 있는지\n",
        "\n",
        "print(라라랜드.index(\"잊은\")) # 인덱스 번호가 몇번인지\n",
        "\n",
        "print(라라랜드[30:32], 라라랜드[0:2]) # 인덱스 영역으로 불러오기 + 합치기\n"
      ],
      "metadata": {
        "colab": {
          "base_uri": "https://localhost:8080/"
        },
        "id": "OBl5ZA7H5NcR",
        "outputId": "c503204b-d738-4762-ef9f-a6be0b438c4c"
      },
      "execution_count": 88,
      "outputs": [
        {
          "output_type": "stream",
          "name": "stdout",
          "text": [
            "<class 'str'>\n",
            "잊\n",
            "은\n",
            "사\n",
            "람\n",
            "False\n",
            "True\n",
            "apple사람들은 다른 사람들의 열정에 끌리게 되어있어 자신이 잊은 걸 상기시켜 주니까\n",
            "43\n",
            "1\n",
            "30\n",
            "잊은 사람\n"
          ]
        }
      ]
    }
  ]
}