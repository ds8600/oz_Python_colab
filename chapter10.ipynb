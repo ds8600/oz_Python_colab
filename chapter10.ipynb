{
  "nbformat": 4,
  "nbformat_minor": 0,
  "metadata": {
    "colab": {
      "provenance": [],
      "authorship_tag": "ABX9TyOjBmkmqqjeGpkgik9r+4o5",
      "include_colab_link": true
    },
    "kernelspec": {
      "name": "python3",
      "display_name": "Python 3"
    },
    "language_info": {
      "name": "python"
    }
  },
  "cells": [
    {
      "cell_type": "markdown",
      "metadata": {
        "id": "view-in-github",
        "colab_type": "text"
      },
      "source": [
        "<a href=\"https://colab.research.google.com/github/ds8600/oz_Python_colab/blob/main/chapter10.ipynb\" target=\"_parent\"><img src=\"https://colab.research.google.com/assets/colab-badge.svg\" alt=\"Open In Colab\"/></a>"
      ]
    },
    {
      "cell_type": "markdown",
      "source": [
        "###list\n",
        "\n",
        "* list란? 원소들이 연속적으로 자징되는 형태의 자료형을 말합니다.\n",
        "* 시퀀스 자료형!!\n",
        "    * str(정복), list(정복 예정), tuple, dict, set\n",
        "* 만드는 방법은 쉬워 대괄호로 묶어주고, 값들은 콤마로 구분합니다."
      ],
      "metadata": {
        "id": "uGkkW83Lc1Qd"
      }
    },
    {
      "cell_type": "code",
      "execution_count": null,
      "metadata": {
        "colab": {
          "base_uri": "https://localhost:8080/"
        },
        "id": "SX_gvd98ctE4",
        "outputId": "5e46f91a-bb50-4a68-f65c-8c4adcd0a525"
      },
      "outputs": [
        {
          "output_type": "stream",
          "name": "stdout",
          "text": [
            "[]\n",
            "[23, '이게 리스트다', 3.23, True, False]\n"
          ]
        }
      ],
      "source": [
        "# 첫 리스트 두근두근\n",
        "\n",
        "리스트 = []\n",
        "print(리스트)\n",
        "\n",
        "리스트 = [23, \"이게 리스트다\", 3.23, True, False]\n",
        "print(리스트)"
      ]
    },
    {
      "cell_type": "code",
      "source": [
        "# 리스트 다시 한번 선언해 보자\n",
        "리스트 = [\"이\", \"렇\", \"게\", \"만\", \"들\", \"어\", \"요\"]\n",
        "리스트\n",
        "리스트2 = list()\n",
        "리스트2\n",
        "\n",
        "#range? 연속된 숫자를 생산하는 기능이 있음\n",
        "range(10)\n",
        "\n",
        "#list(range(시작,끝))\n",
        "리스트_매직_들어간다 = list(range(0,20))\n",
        "리스트_매직_들어간다"
      ],
      "metadata": {
        "colab": {
          "base_uri": "https://localhost:8080/"
        },
        "id": "wQ9RR2nUeDHh",
        "outputId": "26ffa16c-dc78-429e-9c85-2e759dc7ca43"
      },
      "execution_count": 4,
      "outputs": [
        {
          "output_type": "execute_result",
          "data": {
            "text/plain": [
              "[0, 1, 2, 3, 4, 5, 6, 7, 8, 9, 10, 11, 12, 13, 14, 15, 16, 17, 18, 19]"
            ]
          },
          "metadata": {},
          "execution_count": 4
        }
      ]
    },
    {
      "cell_type": "code",
      "source": [
        "#list(range(시작,끝,쯩가))\n",
        "리스트_매직2 = list(range(0,20,2))\n",
        "print(리스트_매직2)\n",
        "\n",
        "리스트_매직3 = list(range(20,0,-1))\n",
        "print(리스트_매직3)\n",
        "\n",
        "리스트_매직4 = list(range(20,0))\n",
        "print(리스트_매직4)"
      ],
      "metadata": {
        "colab": {
          "base_uri": "https://localhost:8080/"
        },
        "id": "Yeu-A5-3NYPM",
        "outputId": "49da61d8-f241-4b85-ecd1-aa636eb249e6"
      },
      "execution_count": 13,
      "outputs": [
        {
          "output_type": "stream",
          "name": "stdout",
          "text": [
            "[0, 2, 4, 6, 8, 10, 12, 14, 16, 18]\n",
            "[20, 19, 18, 17, 16, 15, 14, 13, 12, 11, 10, 9, 8, 7, 6, 5, 4, 3, 2, 1]\n",
            "[]\n"
          ]
        }
      ]
    },
    {
      "cell_type": "code",
      "source": [
        "# 끝나지 않는 리스트 매직\n",
        "# 리스트를 이용해 변수에 값 넣기\n",
        "\n",
        "a, b, c = [\"들\", \"어\", \"가\"]\n",
        "print(a, b, c)\n",
        "\n",
        "d, e, f = [7, 7, 8]\n",
        "print(7, 7, 8)\n",
        "\n",
        "지갑 = [10000, 5000, 1000]\n",
        "만원, 오천원, 천원 = 지갑\n",
        "print(f\"{만원}2장, {오천원} 3장, {천원} 1장\")"
      ],
      "metadata": {
        "colab": {
          "base_uri": "https://localhost:8080/"
        },
        "id": "IiVXsEiKOqir",
        "outputId": "61480c87-1a38-48cd-8668-029d85ce3483"
      },
      "execution_count": 18,
      "outputs": [
        {
          "output_type": "stream",
          "name": "stdout",
          "text": [
            "들 어 가\n",
            "7 7 8\n",
            "100002장, 5000 3장, 1000 1장\n"
          ]
        }
      ]
    },
    {
      "cell_type": "code",
      "source": [
        "# 리스트 패킹, 리스트 언패킹\n",
        "input().split()"
      ],
      "metadata": {
        "colab": {
          "base_uri": "https://localhost:8080/"
        },
        "id": "0WEJFzLqPjGj",
        "outputId": "04254324-cba9-4e28-9899-e7cae303efdf"
      },
      "execution_count": 21,
      "outputs": [
        {
          "name": "stdout",
          "output_type": "stream",
          "text": [
            "기억? 나요?\n"
          ]
        },
        {
          "output_type": "execute_result",
          "data": {
            "text/plain": [
              "['기억?', '나요?']"
            ]
          },
          "metadata": {},
          "execution_count": 21
        }
      ]
    },
    {
      "cell_type": "code",
      "source": [
        "# 슬라이싱\n",
        "\n",
        "로또 = [3,5, 15, 33, 41, 44]\n",
        "#로또 변수에 있는 리스트의 인데스 1번부터  2번까지\n",
        "print(로또[1:3])\n",
        "\n",
        "#로또 변수의 마지막 위치 출력해줘\n",
        "print(로또[-1])\n",
        "\n",
        "#반대로\n",
        "\n",
        "print(로또[7::-1])\n",
        "print(로또[::-1])\n",
        "\n",
        "#로또 리스트안에 33이 있는지\n",
        "print(33 in 로또)\n",
        "\n",
        "#로또 리스트를 로또2 리스트와 합쳐보세요\n",
        "로또2 = [2,12,15,24,33,39]\n",
        "\n",
        "print(로또+로또2)\n",
        "\n",
        "#range를 이용해서 1부터 10사이에 짝수만 들어있는 짝수(변수명) 리스트를 만들어 주세요\n",
        "짝수_리스트 = list(range(2,12,2))\n",
        "print(짝수_리스트)\n",
        "\n",
        "#짝수 리스트에 들어있는 값을 2배늘리고 다시 변수애 담아줘\n",
        "짝수_리스트 = 짝수_리스트 * 2\n",
        "print(짝수_리스트)\n",
        "\n",
        "#짝수 리스트에 들어있는 요소의 개수를 구해주세요.\n",
        "print(len(짝수_리스트))\n",
        "\n",
        "#짝수 리스트에 3번째 인덱스를 출력해주세요\n",
        "print(짝수_리스트[3])\n",
        "\n",
        "#len()함수를 이용해 인덱스 마지막 값을출력해 주세요.\n",
        "print(짝수_리스트[len(짝수_리스트)-1])"
      ],
      "metadata": {
        "colab": {
          "base_uri": "https://localhost:8080/"
        },
        "id": "ZsTmvuESQCVz",
        "outputId": "6f3a73fa-6956-4558-cdbe-2ea5845887b3"
      },
      "execution_count": 52,
      "outputs": [
        {
          "output_type": "stream",
          "name": "stdout",
          "text": [
            "[5, 15]\n",
            "44\n",
            "[44, 41, 33, 15, 5, 3]\n",
            "[44, 41, 33, 15, 5, 3]\n",
            "True\n",
            "[3, 5, 15, 33, 41, 44, 2, 12, 15, 24, 33, 39]\n",
            "[2, 4, 6, 8, 10]\n",
            "[2, 4, 6, 8, 10, 2, 4, 6, 8, 10]\n",
            "10\n",
            "8\n",
            "10\n"
          ]
        }
      ]
    },
    {
      "cell_type": "code",
      "source": [
        "# list 값 넣고, 바꾸고, 지우고\n",
        "\n",
        "mzfood = [\"숙주\", \"분모자\", \"마라\", \"소세지\", \"소고기\", \"옥수수면\"]\n",
        "\n",
        "# 값을 넣는 방법 2가지 : append(): 마지막 요소에 값을 넣어, insert() : 원하는 곳에 값을 넣어요\n",
        "mzfood.append(\"고수\")\n",
        "print(mzfood)\n",
        "\n",
        "mzfood.insert(0, \"건두부\")\n",
        "print(mzfood)\n",
        "\n",
        "#값 지우고\n",
        "del mzfood[-1]\n",
        "print(mzfood)\n",
        "\n",
        "del mzfood[0]\n",
        "print(mzfood)\n",
        "\n",
        "#값 바꾸고\n",
        "mzfood[-2] = \"양고기\"\n",
        "print(mzfood)\n",
        "\n",
        "# 문자열 시퀀스 아니냐 그럼 저거다 될듯\n",
        "#인사 = \"반가워\"\n",
        "#인사[2] = \"웡\""
      ],
      "metadata": {
        "colab": {
          "base_uri": "https://localhost:8080/"
        },
        "id": "jWr2ZXmZWX5B",
        "outputId": "0bcc1437-b10a-49ef-9a3b-81c2d1787acc"
      },
      "execution_count": 67,
      "outputs": [
        {
          "output_type": "stream",
          "name": "stdout",
          "text": [
            "['숙주', '분모자', '마라', '소세지', '소고기', '옥수수면', '고수']\n",
            "['건두부', '숙주', '분모자', '마라', '소세지', '소고기', '옥수수면', '고수']\n",
            "['건두부', '숙주', '분모자', '마라', '소세지', '소고기', '옥수수면']\n",
            "['숙주', '분모자', '마라', '소세지', '소고기', '옥수수면']\n",
            "['숙주', '분모자', '마라', '소세지', '양고기', '옥수수면']\n"
          ]
        }
      ]
    },
    {
      "cell_type": "code",
      "source": [
        "print(dir(list))"
      ],
      "metadata": {
        "colab": {
          "base_uri": "https://localhost:8080/"
        },
        "id": "kB0yeHzTiHo-",
        "outputId": "0d095583-02a8-42e8-ad87-2bb1bb489e86"
      },
      "execution_count": 64,
      "outputs": [
        {
          "output_type": "stream",
          "name": "stdout",
          "text": [
            "['__add__', '__class__', '__class_getitem__', '__contains__', '__delattr__', '__delitem__', '__dir__', '__doc__', '__eq__', '__format__', '__ge__', '__getattribute__', '__getitem__', '__getstate__', '__gt__', '__hash__', '__iadd__', '__imul__', '__init__', '__init_subclass__', '__iter__', '__le__', '__len__', '__lt__', '__mul__', '__ne__', '__new__', '__reduce__', '__reduce_ex__', '__repr__', '__reversed__', '__rmul__', '__setattr__', '__setitem__', '__sizeof__', '__str__', '__subclasshook__', 'append', 'clear', 'copy', 'count', 'extend', 'index', 'insert', 'pop', 'remove', 'reverse', 'sort']\n"
          ]
        }
      ]
    },
    {
      "cell_type": "code",
      "source": [
        "# reverse 왜 print문을 쓰면 none이 나올까?\n",
        "print(mzfood)\n",
        "print(mzfood.reverse())\n",
        "print(mzfood.sort())\n",
        "\n"
      ],
      "metadata": {
        "colab": {
          "base_uri": "https://localhost:8080/"
        },
        "id": "NdyjHPZaiSu2",
        "outputId": "888fbad6-1a31-4363-a0b5-9439d345152f"
      },
      "execution_count": 73,
      "outputs": [
        {
          "output_type": "stream",
          "name": "stdout",
          "text": [
            "['마라', '분모자', '소세지', '숙주', '양고기', '옥수수면']\n",
            "None\n",
            "None\n"
          ]
        }
      ]
    },
    {
      "cell_type": "code",
      "source": [
        "# 리스트 까도까도 나오네?\n",
        "# 2차원 리스트에 대해서도 공부는 필수 !!!!!\n",
        "\n",
        "양파같은 = [[2,0], [3,1]]\n",
        "양파같은\n",
        "\n",
        "양파같은[0]\n",
        "양파같은[1]\n",
        "#3을 출력해줘\n",
        "양파같은[1][0]\n",
        "\n",
        "양파같은.append([4,1])\n",
        "양파같은"
      ],
      "metadata": {
        "colab": {
          "base_uri": "https://localhost:8080/"
        },
        "id": "BOH31BnEjRGG",
        "outputId": "dd94ba98-d39d-4575-8fce-94ca405491a3"
      },
      "execution_count": 79,
      "outputs": [
        {
          "output_type": "execute_result",
          "data": {
            "text/plain": [
              "[[2, 0], [3, 1], [4, 1]]"
            ]
          },
          "metadata": {},
          "execution_count": 79
        }
      ]
    }
  ]
}