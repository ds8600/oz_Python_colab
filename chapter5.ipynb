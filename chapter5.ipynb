{
  "nbformat": 4,
  "nbformat_minor": 0,
  "metadata": {
    "colab": {
      "provenance": [],
      "authorship_tag": "ABX9TyObMpjdlDJ60QJ4/uw1ulLJ",
      "include_colab_link": true
    },
    "kernelspec": {
      "name": "python3",
      "display_name": "Python 3"
    },
    "language_info": {
      "name": "python"
    }
  },
  "cells": [
    {
      "cell_type": "markdown",
      "metadata": {
        "id": "view-in-github",
        "colab_type": "text"
      },
      "source": [
        "<a href=\"https://colab.research.google.com/github/ds8600/oz_Python_colab/blob/main/chapter5.ipynb\" target=\"_parent\"><img src=\"https://colab.research.google.com/assets/colab-badge.svg\" alt=\"Open In Colab\"/></a>"
      ]
    },
    {
      "cell_type": "markdown",
      "source": [
        "##사칙연산\n",
        "더하기 : +\n",
        "\n",
        "빼기 : -\n",
        "\n",
        "곱하기 : *\n",
        "\n",
        "나누기 :\n",
        "*   / : 우리가 알고 있는 나누기와 동일한 기능 (예 5/2 = 2.5)\n",
        "*   // : 몫을 반환 (예 5/2 = 2)\n",
        "*   % : 나머지를 반환 (예 5/2 = 1)\n",
        "\n",
        "거듭제곱 : **"
      ],
      "metadata": {
        "id": "woepOu50li5K"
      }
    },
    {
      "cell_type": "code",
      "execution_count": null,
      "metadata": {
        "colab": {
          "base_uri": "https://localhost:8080/"
        },
        "id": "oboiRgQWj7DH",
        "outputId": "09505c24-d251-44cd-931f-7ef2764cb1fa"
      },
      "outputs": [
        {
          "output_type": "stream",
          "name": "stdout",
          "text": [
            "5\n"
          ]
        }
      ],
      "source": [
        "#더하기\n",
        "print(3+2)"
      ]
    },
    {
      "cell_type": "code",
      "source": [
        "#빼기\n",
        "print(3-1)"
      ],
      "metadata": {
        "colab": {
          "base_uri": "https://localhost:8080/"
        },
        "id": "HMRgmZD1mWEO",
        "outputId": "7ea231b3-1ce6-4b71-e371-66a4c5ff8003"
      },
      "execution_count": null,
      "outputs": [
        {
          "output_type": "stream",
          "name": "stdout",
          "text": [
            "2\n"
          ]
        }
      ]
    },
    {
      "cell_type": "code",
      "source": [
        "#곱하기\n",
        "print(3*2)"
      ],
      "metadata": {
        "colab": {
          "base_uri": "https://localhost:8080/"
        },
        "id": "RO73hZVrrMzj",
        "outputId": "3662697e-58bf-423e-a2a1-53128c2ed1fd"
      },
      "execution_count": null,
      "outputs": [
        {
          "output_type": "stream",
          "name": "stdout",
          "text": [
            "6\n"
          ]
        }
      ]
    },
    {
      "cell_type": "code",
      "source": [
        "#나누기 /\n",
        "print(7/2)\n",
        "\n",
        "#나누기 //\n",
        "print(7//2)\n",
        "\n",
        "#나누기 %\n",
        "print(7%2)"
      ],
      "metadata": {
        "colab": {
          "base_uri": "https://localhost:8080/"
        },
        "id": "0dCkmNuirRNa",
        "outputId": "5e0a9f58-5c78-4d1e-d577-42c6a012ab5d"
      },
      "execution_count": null,
      "outputs": [
        {
          "output_type": "stream",
          "name": "stdout",
          "text": [
            "3.5\n",
            "3\n",
            "1\n"
          ]
        }
      ]
    },
    {
      "cell_type": "markdown",
      "source": [
        "내장함수 : divmod\n",
        "\n",
        "> 내장함수 : 자주 사용하는 기능을 미리 만들어 놓은것을 내장함수라고 함\n",
        "\n",
        "**divmod**: 목과 나머지를 동시에 구해줌"
      ],
      "metadata": {
        "id": "T0x76WSdrnHV"
      }
    },
    {
      "cell_type": "code",
      "source": [
        "print(divmod(3,2))\n",
        "print(divmod(7,4))\n",
        "print(divmod(13,2))\n",
        "print(divmod(19,4))\n",
        "print(divmod(15,5))\n",
        "\n",
        "print(7//4, \",\" , 7%4)"
      ],
      "metadata": {
        "colab": {
          "base_uri": "https://localhost:8080/"
        },
        "id": "bcKuv86Na851",
        "outputId": "020cd864-ec90-4758-8c5b-5e4584890b3b"
      },
      "execution_count": null,
      "outputs": [
        {
          "output_type": "stream",
          "name": "stdout",
          "text": [
            "(1, 1)\n",
            "(1, 3)\n",
            "(6, 1)\n",
            "(4, 3)\n",
            "(3, 0)\n",
            "1 , 3\n"
          ]
        }
      ]
    },
    {
      "cell_type": "markdown",
      "source": [
        "### 괄호\n",
        "\n",
        "수학에서 사용되는 괄호와 동일한 기능\n",
        "\n",
        "() : 괄호안에 있는 것을 먼저 계산\n",
        "\n",
        "사칙연산 순서 : 괄호 -> 곱셈, 나눗셈-> 덧셈, 뺄셈"
      ],
      "metadata": {
        "id": "rXKtCqiibwpG"
      }
    },
    {
      "cell_type": "code",
      "source": [
        "# 아아 : 5000원 / 아샷추 : 6500원\n",
        "# 아아 2잔 / 아샷추 3잔\n",
        "\n",
        "(500*2)+(6500*3)"
      ],
      "metadata": {
        "colab": {
          "base_uri": "https://localhost:8080/"
        },
        "id": "Ufb8kgngdmVx",
        "outputId": "94de6198-e370-48bf-fc4c-890daebe1408"
      },
      "execution_count": 1,
      "outputs": [
        {
          "output_type": "execute_result",
          "data": {
            "text/plain": [
              "20500"
            ]
          },
          "metadata": {},
          "execution_count": 1
        }
      ]
    },
    {
      "cell_type": "code",
      "source": [
        "# 미안한데 그때 아아 2잔이랑 아샷추 3잔 결제한 금액이 얼마였지?\n",
        "(500*2)+(6500*3)"
      ],
      "metadata": {
        "colab": {
          "base_uri": "https://localhost:8080/"
        },
        "id": "gpo5x--hd1E4",
        "outputId": "26523e4c-e071-4c43-f550-371f7d3d7a47"
      },
      "execution_count": 2,
      "outputs": [
        {
          "output_type": "execute_result",
          "data": {
            "text/plain": [
              "20500"
            ]
          },
          "metadata": {},
          "execution_count": 2
        }
      ]
    },
    {
      "cell_type": "markdown",
      "source": [
        "계산된 결과값이 다 날아가는 문제.... 어떻게 해결?"
      ],
      "metadata": {
        "id": "NhimPKHUeDhB"
      }
    },
    {
      "cell_type": "markdown",
      "source": [
        "### 변수란? (기본중에 기본, 근본중에 근본, 코어중에 코어.....)\n",
        "하나의 값을 저장할 수 있는 공간\n",
        "- 숫 자\n",
        "- 문 자\n",
        "\n",
        "하나의 변수에 하나의 값을 넣을때\n",
        "변수이름 = 값\n",
        "2개의 변수에 하나의 값을 각각 넣을때\n",
        "변수이름1, 변수이름2 = 값1, 값2"
      ],
      "metadata": {
        "id": "xxEyWmFVeMDK"
      }
    },
    {
      "cell_type": "code",
      "source": [
        "# 하나의 값을 변수에 넣을 때\n",
        "num = 1\n",
        "print(num)\n",
        "\n",
        "# 두개의 값을 변수에 넣을 때\n",
        "num_1, num_2 = 1, 2\n",
        "print(num_1)\n",
        "print(num_2)\n",
        "\n",
        "print(num_1, num_2)\n"
      ],
      "metadata": {
        "colab": {
          "base_uri": "https://localhost:8080/"
        },
        "id": "Kej9_jyNeBkw",
        "outputId": "3fb4752e-d0b1-465b-cc31-5cf4fd681a66"
      },
      "execution_count": 7,
      "outputs": [
        {
          "output_type": "stream",
          "name": "stdout",
          "text": [
            "1\n",
            "1\n",
            "2\n",
            "1 2\n"
          ]
        }
      ]
    },
    {
      "cell_type": "markdown",
      "source": [
        "1부터 5까지의 숫자를 더하는 문제를 풀어보겠습니다. 단, 다음 숫자를 더하기 위해서 매번 새로운 줄에서 시작해야하는 조건이 있습니다."
      ],
      "metadata": {
        "id": "lzheQbN8j5v0"
      }
    },
    {
      "cell_type": "code",
      "source": [
        "# 변수를 사용하지 않을 때\n",
        "# 이전에 계산된 결과를 저장할 수 있는 방법이 없음\n",
        "1 + 2\n",
        "1 + 2 + 3\n",
        "1 + 2 + 3 + 4\n",
        "1 + 2 + 3 + 4 + 5"
      ],
      "metadata": {
        "colab": {
          "base_uri": "https://localhost:8080/"
        },
        "id": "jpd-oYMSjqDD",
        "outputId": "e79deca6-969b-4af8-df65-75c70cc68b30"
      },
      "execution_count": 9,
      "outputs": [
        {
          "output_type": "execute_result",
          "data": {
            "text/plain": [
              "15"
            ]
          },
          "metadata": {},
          "execution_count": 9
        }
      ]
    },
    {
      "cell_type": "code",
      "source": [
        "# 변수를 사용할 때\n",
        "# 이전에 계산된 결과를 저장해서 사용할 수 있음\n",
        "\n",
        "sum = 1 + 2\n",
        "sum = sum +3\n",
        "sum = sum +4\n",
        "sum = sum +5\n",
        "\n",
        "print(sum)"
      ],
      "metadata": {
        "colab": {
          "base_uri": "https://localhost:8080/"
        },
        "id": "B3V8pye-kdrr",
        "outputId": "695d50e6-4e9a-4599-e0d9-4d8587386551"
      },
      "execution_count": 10,
      "outputs": [
        {
          "output_type": "stream",
          "name": "stdout",
          "text": [
            "15\n"
          ]
        }
      ]
    },
    {
      "cell_type": "markdown",
      "source": [
        "### 변수에 값을 넣는 것 => 할당\n",
        "\n",
        "sum = 1 + 2 => 1+2의 계산된 결과를 sum이라는 변수에 할당한다.  \n",
        "\n",
        "sum 변수명이고 '=' 같다는 의미가 아니라 할당(assignment)이라고 합니다.  \n",
        "'=' : 할당 연산자  \n",
        "'+' : 산술 연산자  \n",
        "+= 산술 후 바로 할당하는 문법  \n",
        "/=, -=, *= 모두 가능합니다."
      ],
      "metadata": {
        "id": "ccftJygrk5mH"
      }
    },
    {
      "cell_type": "code",
      "source": [
        "# 변수를 사용하면서 사용 가능한 문법\n",
        "\n",
        "sum = 1 + 2\n",
        "sum = + sum + 3\n",
        "sum = + sum + 4\n",
        "sum = + sum + 5\n",
        "\n",
        "print(sum)\n",
        "\n",
        "sum2 = 1+ 2\n",
        "sum2 += 3\n",
        "sum2 += 4\n",
        "sum2 += 5\n",
        "\n",
        "print(sum2)\n"
      ],
      "metadata": {
        "colab": {
          "base_uri": "https://localhost:8080/"
        },
        "id": "o3lfzuRQmCC5",
        "outputId": "874fff2f-c5d0-467d-e861-94adb08a91c5"
      },
      "execution_count": 15,
      "outputs": [
        {
          "output_type": "stream",
          "name": "stdout",
          "text": [
            "15\n",
            "15\n"
          ]
        }
      ]
    },
    {
      "cell_type": "code",
      "source": [
        "# 주의 !! 선언되지 않은 변수를 사용할 경우 에러 발생\n",
        "\n",
        "sum3 = 0\n",
        "sum3 += 1\n",
        "\n",
        "sum3"
      ],
      "metadata": {
        "colab": {
          "base_uri": "https://localhost:8080/"
        },
        "id": "a2HBvK7um-4J",
        "outputId": "6ed27aad-cb51-43c8-ae80-03074a10a439"
      },
      "execution_count": 23,
      "outputs": [
        {
          "output_type": "execute_result",
          "data": {
            "text/plain": [
              "1"
            ]
          },
          "metadata": {},
          "execution_count": 23
        }
      ]
    },
    {
      "cell_type": "code",
      "source": [
        "# 변수에 어떤값도 넣고 싶지 않고 선언하는 방법\n",
        "\n",
        "nothing = None\n",
        "print(nothing)"
      ],
      "metadata": {
        "colab": {
          "base_uri": "https://localhost:8080/"
        },
        "id": "gj1QWDFendYY",
        "outputId": "d90ae5c5-4eb8-482e-dc1e-f5ad7726002f"
      },
      "execution_count": 26,
      "outputs": [
        {
          "output_type": "stream",
          "name": "stdout",
          "text": [
            "None\n"
          ]
        }
      ]
    },
    {
      "cell_type": "code",
      "source": [
        "#대소뮨저룰 규뷴허눈 변수\n",
        "BIG = \"크다\"\n",
        "big = \"작다\"\n",
        "\n",
        "print(BIG, big)"
      ],
      "metadata": {
        "colab": {
          "base_uri": "https://localhost:8080/"
        },
        "id": "6aA-Tcrgnuc4",
        "outputId": "166ecdc2-83da-4144-deea-fbd5c566b55b"
      },
      "execution_count": 27,
      "outputs": [
        {
          "output_type": "stream",
          "name": "stdout",
          "text": [
            "크다 작다\n"
          ]
        }
      ]
    },
    {
      "cell_type": "markdown",
      "source": [
        "스네이크케이스(snake case)\n",
        "변수명 : snake_case _ <=뱜인가요?\n",
        "\n",
        "카멜케이스(camel case)\n",
        "변수명 : camelCase <= 낙타가 보이시나요?"
      ],
      "metadata": {
        "id": "PJgQ_EUEosgU"
      }
    },
    {
      "cell_type": "code",
      "source": [
        "# 우리는 변수를 만들때 스테이크케이스로 진행합니다. 그리고 언더바는 2개를 적용시켜주세요\n",
        "# 개발에 관련된 여러 조건을 명시하는 것들을 코드 컨벤션이라고 합니다.\n",
        "\n",
        "box_shose =\"스니커즈\"\n",
        "box_hat = \"슈프림 모자\"\n",
        "\n",
        "print(box_shose)\n",
        "print(box_hat)"
      ],
      "metadata": {
        "colab": {
          "base_uri": "https://localhost:8080/"
        },
        "id": "VBZtrmfOosIW",
        "outputId": "012098ef-bcf8-443f-ff4d-36484c3f699a"
      },
      "execution_count": 29,
      "outputs": [
        {
          "output_type": "stream",
          "name": "stdout",
          "text": [
            "스니커즈\n",
            "슈프림 모자\n"
          ]
        }
      ]
    },
    {
      "cell_type": "code",
      "source": [
        "#print() 포메팅 3가지 f-string : print(f'{변수명}')\n",
        "\n",
        "me = \"파머\"\n",
        "print(f'(me)만 빼고 고양이 다있어')"
      ],
      "metadata": {
        "colab": {
          "base_uri": "https://localhost:8080/"
        },
        "id": "wK59jKR1p7vG",
        "outputId": "614bd5ff-afe4-49d1-bd8d-92ec47b8d025"
      },
      "execution_count": 31,
      "outputs": [
        {
          "output_type": "stream",
          "name": "stdout",
          "text": [
            "(me)만 빼고 고양이 다있어\n"
          ]
        }
      ]
    },
    {
      "cell_type": "code",
      "source": [
        "# 붕어빵 철이 돌아왔죠\n",
        "# 붕어빵(팥) : 2000원, 붕어빵(슈크림) : 2500원, 붕어빵(잡채) : 3000원\n",
        "# 무인 주문기계를 만들어주세요\n",
        "# 붕어빵(잡채) 3개, 붕어빵(슈크림 2개를 주문하면\n",
        "# \"주문이 완료되었습니다. 븡어빵(슈크림) 2개, 붕어빵(잡채) 3개 총 5개 결제 금액은 14000원입니다\"\n",
        "# 이 출력되도록 코드를 작성해주세요.\n",
        "# 변수를 만들때 스네이크 케이스에 언더바는 2개 / print()문의 포메팅 f_string\n",
        "\n",
        "# 변수지정\n",
        "bread_p = 2000\n",
        "bread_s = 2500\n",
        "bread_j = 3000\n",
        "# 주문\n",
        "order_s = 2\n",
        "order_j = 3\n",
        "# 계산\n",
        "total_count = order_s + order_j\n",
        "total_money = (order_s * bread_s) + (order_j * bread_j)\n",
        "\n",
        "print(f\"주문이 완료되었습니다. 붕어빵(슈크림) {order_s}개, 붕어빵(잡채) {order_j}개 총 {total_count}개 결제 금액은 {total_money}원입니다.\")"
      ],
      "metadata": {
        "colab": {
          "base_uri": "https://localhost:8080/"
        },
        "id": "pxZIZYwHqhkW",
        "outputId": "bd41e054-5b3b-4ab2-c4d0-d9adda21447b"
      },
      "execution_count": 40,
      "outputs": [
        {
          "output_type": "stream",
          "name": "stdout",
          "text": [
            "주문이 완료되었습니다. 붕어빵(슈크림) 2개, 붕어빵(잡채) 3개 총 5개 결제 금액은 14000원입니다.\n"
          ]
        }
      ]
    }
  ]
}