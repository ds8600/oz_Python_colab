{
  "nbformat": 4,
  "nbformat_minor": 0,
  "metadata": {
    "colab": {
      "provenance": [],
      "authorship_tag": "ABX9TyNrTt7Uu/ejSSPakySDDFsc",
      "include_colab_link": true
    },
    "kernelspec": {
      "name": "python3",
      "display_name": "Python 3"
    },
    "language_info": {
      "name": "python"
    }
  },
  "cells": [
    {
      "cell_type": "markdown",
      "metadata": {
        "id": "view-in-github",
        "colab_type": "text"
      },
      "source": [
        "<a href=\"https://colab.research.google.com/github/ds8600/oz_Python_colab/blob/main/chapter19.ipynb\" target=\"_parent\"><img src=\"https://colab.research.google.com/assets/colab-badge.svg\" alt=\"Open In Colab\"/></a>"
      ]
    },
    {
      "cell_type": "markdown",
      "source": [
        "##파일 입출력  \n",
        "\n",
        "# 웹 -> 크롤링 -> 데이터베이스 ->1차 클랜징 -> 출력 후 담당자 전달합니다. -> 2차클랜징 -> 유용한 데이터셋 -> csv 데이터베이스 입력 -> 인공지능 학습."
      ],
      "metadata": {
        "id": "q6_X5oB3jL4K"
      }
    },
    {
      "cell_type": "code",
      "execution_count": 2,
      "metadata": {
        "colab": {
          "base_uri": "https://localhost:8080/",
          "height": 35
        },
        "id": "TCmOogzhjJeD",
        "outputId": "a9abadc1-018a-438e-e2cd-26d4212c5725"
      },
      "outputs": [
        {
          "output_type": "execute_result",
          "data": {
            "text/plain": [
              "'/content'"
            ],
            "application/vnd.google.colaboratory.intrinsic+json": {
              "type": "string"
            }
          },
          "metadata": {},
          "execution_count": 2
        }
      ],
      "source": [
        "pwd"
      ]
    },
    {
      "cell_type": "code",
      "source": [
        "cd /content/drive/MyDrive/python"
      ],
      "metadata": {
        "colab": {
          "base_uri": "https://localhost:8080/"
        },
        "id": "oOXrRTfmkuMw",
        "outputId": "6d6bfd6a-a5a6-49e1-b922-97343288e042"
      },
      "execution_count": 4,
      "outputs": [
        {
          "output_type": "stream",
          "name": "stdout",
          "text": [
            "/content/drive/MyDrive/python\n"
          ]
        }
      ]
    },
    {
      "cell_type": "markdown",
      "source": [
        "r-  읽기\n",
        "w-  쓰기(주의: 덮어쓰기)\n",
        "a-  추가"
      ],
      "metadata": {
        "id": "ZsN7l2xOkx3u"
      }
    },
    {
      "cell_type": "code",
      "source": [
        "f = open(\"texr.txt\", \"w\")\n",
        "f.write(\"수강생 여러분\")\n",
        "f.close()"
      ],
      "metadata": {
        "id": "k-ukMJyNkxMY"
      },
      "execution_count": 6,
      "outputs": []
    },
    {
      "cell_type": "code",
      "source": [
        "f = open(\"texr.txt\", \"w\")\n",
        "f.write(\"개발자 여러분\")\n",
        "f.close()"
      ],
      "metadata": {
        "id": "Fi-pabKjlTuQ"
      },
      "execution_count": 8,
      "outputs": []
    },
    {
      "cell_type": "code",
      "source": [
        "f = open(\"texr.txt\", \"w\")\n",
        "f.write('''\"개발자 여러분\n",
        "개발자 여러분\n",
        "개발자 여러분\n",
        "개발자 여러분\n",
        "개발자 여러분\"''')\n",
        "f.close()"
      ],
      "metadata": {
        "id": "fRp7eTRtleiQ"
      },
      "execution_count": 10,
      "outputs": []
    },
    {
      "cell_type": "code",
      "source": [
        "f = open(\"texr.txt\", \"w\")\n",
        "메시지 = \"\"\n",
        "\n",
        "for i in range(10):\n",
        "    메시지 += \"개발자여러분\\n\"\n",
        "f.write(메시지)\n",
        "\n",
        "f.close()"
      ],
      "metadata": {
        "id": "3cv0ERf6loMf"
      },
      "execution_count": 13,
      "outputs": []
    },
    {
      "cell_type": "code",
      "source": [
        "f = open('texr.txt','r')\n",
        "s = f.read()\n",
        "print(s)\n",
        "f.close()"
      ],
      "metadata": {
        "colab": {
          "base_uri": "https://localhost:8080/"
        },
        "id": "zNql2T4tmCuH",
        "outputId": "b8f38edc-5600-444a-d966-f59e10fafcbc"
      },
      "execution_count": 18,
      "outputs": [
        {
          "output_type": "stream",
          "name": "stdout",
          "text": [
            "개발자여러분\n",
            "개발자여러분\n",
            "개발자여러분\n",
            "개발자여러분\n",
            "개발자여러분\n",
            "개발자여러분\n",
            "개발자여러분\n",
            "개발자여러분\n",
            "개발자여러분\n",
            "개발자여러분\n",
            "\n"
          ]
        }
      ]
    },
    {
      "cell_type": "code",
      "source": [
        "f = open('texr.txt','r')\n",
        "line = f.readline()\n",
        "print(line)\n",
        "print(type(line))\n",
        "f.close()"
      ],
      "metadata": {
        "colab": {
          "base_uri": "https://localhost:8080/"
        },
        "id": "S4b0T6Mumj7P",
        "outputId": "7b900bab-6e6b-44b3-8488-47f8cf6f7b08"
      },
      "execution_count": 21,
      "outputs": [
        {
          "output_type": "stream",
          "name": "stdout",
          "text": [
            "개발자여러분\n",
            "\n",
            "<class 'str'>\n"
          ]
        }
      ]
    },
    {
      "cell_type": "code",
      "source": [
        "f = open('texr.txt','r')\n",
        "while line:\n",
        "    line = f.readline()\n",
        "    print(line)\n",
        "\n",
        "f.close()"
      ],
      "metadata": {
        "colab": {
          "base_uri": "https://localhost:8080/"
        },
        "id": "cmJDqTMes_Tb",
        "outputId": "3f7f9dc8-0151-4d45-b307-ef1519c7e481"
      },
      "execution_count": 34,
      "outputs": [
        {
          "output_type": "stream",
          "name": "stdout",
          "text": [
            "개발자여러분\n",
            "\n",
            "개발자여러분\n",
            "\n",
            "개발자여러분\n",
            "\n",
            "개발자여러분\n",
            "\n",
            "개발자여러분\n",
            "\n",
            "개발자여러분\n",
            "\n",
            "개발자여러분\n",
            "\n",
            "개발자여러분\n",
            "\n",
            "개발자여러분\n",
            "\n",
            "개발자여러분\n",
            "\n",
            "\n"
          ]
        }
      ]
    },
    {
      "cell_type": "code",
      "source": [
        "f = open(\"texr.txt\", \"r\")\n",
        "\n",
        "while True:\n",
        "    line = f.readline()\n",
        "    if not line:\n",
        "        break\n",
        "    print(line)\n",
        "\n",
        "f.close()"
      ],
      "metadata": {
        "colab": {
          "base_uri": "https://localhost:8080/"
        },
        "id": "6bv0O07Fm_nv",
        "outputId": "4eecdf7f-ca15-4aa7-9585-45fa04338238"
      },
      "execution_count": 35,
      "outputs": [
        {
          "output_type": "stream",
          "name": "stdout",
          "text": [
            "개발자여러분\n",
            "\n",
            "개발자여러분\n",
            "\n",
            "개발자여러분\n",
            "\n",
            "개발자여러분\n",
            "\n",
            "개발자여러분\n",
            "\n",
            "개발자여러분\n",
            "\n",
            "개발자여러분\n",
            "\n",
            "개발자여러분\n",
            "\n",
            "개발자여러분\n",
            "\n",
            "개발자여러분\n",
            "\n"
          ]
        }
      ]
    },
    {
      "cell_type": "code",
      "source": [
        "f = open(\"texr.txt\", \"a\")\n",
        "f.write(\"힘내자\")\n",
        "\n",
        "f.close()"
      ],
      "metadata": {
        "id": "nPdraMVbs6Jd"
      },
      "execution_count": 36,
      "outputs": []
    },
    {
      "cell_type": "code",
      "source": [
        "with open(\"texr.txt\", \"a\") as f:\n",
        "    f.write(\"힘내자!!!!\")"
      ],
      "metadata": {
        "id": "cF2f7sYet_j7"
      },
      "execution_count": 37,
      "outputs": []
    },
    {
      "cell_type": "code",
      "source": [
        "list = [10, 20, 30]\n",
        "\n",
        "with open(\"texr.txt\", \"a\") as f:\n",
        "    f.write(str(list))"
      ],
      "metadata": {
        "id": "D-yM3aYXuQxj"
      },
      "execution_count": 38,
      "outputs": []
    },
    {
      "cell_type": "code",
      "source": [
        "list = [10, 20, 30]\n",
        "with open(\"texr.txt\", \"a\") as f:\n",
        "    f.write(\"let test =\" +str(list))"
      ],
      "metadata": {
        "id": "uKyDN1gpvB9V"
      },
      "execution_count": 41,
      "outputs": []
    },
    {
      "cell_type": "code",
      "source": [
        "list = [\"10\", \"20\", \"30\"]\n",
        "with open(\"texr.txt\", \"a\") as f:\n",
        "    f.writelines(list)"
      ],
      "metadata": {
        "id": "KEnYwMrlvwUN"
      },
      "execution_count": 45,
      "outputs": []
    },
    {
      "cell_type": "code",
      "source": [
        "#csv\n",
        "list = [\"10\", \"20\", \"30\"]\n",
        "\n",
        "with open(\"texr.csv\", \"w\") as f:\n",
        "    f.write(\",\".join(list))"
      ],
      "metadata": {
        "id": "SPIudSRLwPEt"
      },
      "execution_count": 48,
      "outputs": []
    }
  ]
}