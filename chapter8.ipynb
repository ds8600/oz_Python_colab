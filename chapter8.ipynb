{
  "nbformat": 4,
  "nbformat_minor": 0,
  "metadata": {
    "colab": {
      "provenance": [],
      "authorship_tag": "ABX9TyOlzeX2I+ALd0tS3itgGmh2",
      "include_colab_link": true
    },
    "kernelspec": {
      "name": "python3",
      "display_name": "Python 3"
    },
    "language_info": {
      "name": "python"
    }
  },
  "cells": [
    {
      "cell_type": "markdown",
      "metadata": {
        "id": "view-in-github",
        "colab_type": "text"
      },
      "source": [
        "<a href=\"https://colab.research.google.com/github/ds8600/oz_Python_colab/blob/main/chapter8.ipynb\" target=\"_parent\"><img src=\"https://colab.research.google.com/assets/colab-badge.svg\" alt=\"Open In Colab\"/></a>"
      ]
    },
    {
      "cell_type": "markdown",
      "source": [
        "###자료형 종류  \n",
        "  \n",
        "1. int(integer) : 정수형  \n",
        "2. float(float) : 실수  \n",
        "3. str(string) : 문자  \n",
        "4. bool(bool, boolean) : 참 또는 거짓, true 또는 false, 1 또는 0  \n",
        "\n",
        "----\n",
        "\n",
        "5. list  \n",
        "6. tuple  \n",
        "7. dict  \n",
        "8. set  "
      ],
      "metadata": {
        "id": "HuQ7JKHRHqq5"
      }
    },
    {
      "cell_type": "code",
      "execution_count": 6,
      "metadata": {
        "id": "eBrWp-mmHM60",
        "colab": {
          "base_uri": "https://localhost:8080/"
        },
        "outputId": "4d3a20b6-1a68-4ec6-bd86-1bfdac9d830e"
      },
      "outputs": [
        {
          "output_type": "execute_result",
          "data": {
            "text/plain": [
              "False"
            ]
          },
          "metadata": {},
          "execution_count": 6
        }
      ],
      "source": [
        "# bool 의 쇼타임 시작합니다.\n",
        "# 주의할점 True x true False x false 대소문자 주의!!\n",
        "# 부등호\n",
        "3 > 1\n",
        "3 == 1\n",
        "3 == 3\n",
        "\n",
        "20 != 5\n",
        "20 != 20"
      ]
    },
    {
      "cell_type": "code",
      "source": [
        "#문자열 비교\n",
        "\"python\" == \"Python\"\n",
        "\"python\" == \"python\"\n",
        "\"python\" != \"python\""
      ],
      "metadata": {
        "colab": {
          "base_uri": "https://localhost:8080/"
        },
        "id": "_no_IeQUQwTA",
        "outputId": "63c60d81-bd4e-42c6-b1b1-6249e0fe2bb6"
      },
      "execution_count": 9,
      "outputs": [
        {
          "output_type": "execute_result",
          "data": {
            "text/plain": [
              "True"
            ]
          },
          "metadata": {},
          "execution_count": 9
        }
      ]
    },
    {
      "cell_type": "code",
      "source": [
        "# 부등호\n",
        "5 >= 5\n",
        "5 < 4"
      ],
      "metadata": {
        "colab": {
          "base_uri": "https://localhost:8080/"
        },
        "id": "J1AJaSG6RB9Y",
        "outputId": "42ed5166-d013-4c55-95f3-2c51a12d4003"
      },
      "execution_count": 12,
      "outputs": [
        {
          "output_type": "execute_result",
          "data": {
            "text/plain": [
              "False"
            ]
          },
          "metadata": {},
          "execution_count": 12
        }
      ]
    },
    {
      "cell_type": "code",
      "source": [
        "# 중요\n",
        "# ==, is\n",
        "\n",
        "print(3 is 3)\n",
        "print(3 == 3)\n",
        "\n",
        "print(3.0 is 3)\n",
        "print(3.0 == 3)\n",
        "\n",
        "print(id(3.0))\n",
        "print(id(3))"
      ],
      "metadata": {
        "colab": {
          "base_uri": "https://localhost:8080/"
        },
        "id": "WDYHDLK6Sonn",
        "outputId": "12fded9c-1bfe-4dea-8142-13060db1c455"
      },
      "execution_count": 18,
      "outputs": [
        {
          "output_type": "stream",
          "name": "stdout",
          "text": [
            "True\n",
            "True\n",
            "False\n",
            "True\n",
            "138179791832784\n",
            "11642152\n"
          ]
        },
        {
          "output_type": "stream",
          "name": "stderr",
          "text": [
            "<>:4: SyntaxWarning: \"is\" with 'int' literal. Did you mean \"==\"?\n",
            "<>:7: SyntaxWarning: \"is\" with 'float' literal. Did you mean \"==\"?\n",
            "<>:4: SyntaxWarning: \"is\" with 'int' literal. Did you mean \"==\"?\n",
            "<>:7: SyntaxWarning: \"is\" with 'float' literal. Did you mean \"==\"?\n",
            "/tmp/ipython-input-2003294964.py:4: SyntaxWarning: \"is\" with 'int' literal. Did you mean \"==\"?\n",
            "  print(3 is 3)\n",
            "/tmp/ipython-input-2003294964.py:7: SyntaxWarning: \"is\" with 'float' literal. Did you mean \"==\"?\n",
            "  print(3.0 is 3)\n"
          ]
        }
      ]
    },
    {
      "cell_type": "markdown",
      "source": [
        "미션 : 값 비교에는 is를 쓰면 안되는데 그 이유룰 첮아서 기술 블로그에 작성해보세요."
      ],
      "metadata": {
        "id": "wB6DDAdFTZ9_"
      }
    },
    {
      "cell_type": "code",
      "source": [
        "# 본격적인 논리연산자 # and = *\n",
        "# True : 1 / False : 0\n",
        "print(True and True) # 1 * 1 = 1\n",
        "print(True and False) # 1 * 0 = 0\n",
        "print(False and True) # 0 * 1 = 0\n",
        "print(False and False) # 0 * 0 = 0"
      ],
      "metadata": {
        "colab": {
          "base_uri": "https://localhost:8080/"
        },
        "id": "R6xMt3gNUGYH",
        "outputId": "bb5d1787-97d4-448e-bf4f-79cc7024a425"
      },
      "execution_count": 22,
      "outputs": [
        {
          "output_type": "stream",
          "name": "stdout",
          "text": [
            "True\n",
            "False\n",
            "False\n",
            "False\n"
          ]
        }
      ]
    },
    {
      "cell_type": "code",
      "source": [
        "# 본격적인 논리연산자 # or = +\n",
        "# True : 1 / False : 0\n",
        "print(True or True) # 1 * 1 = 1\n",
        "print(True or False) # 1 * 0 = 0\n",
        "print(False or True) # 0 * 1 = 0\n",
        "print(False or False) # 0 * 0 = 0"
      ],
      "metadata": {
        "colab": {
          "base_uri": "https://localhost:8080/"
        },
        "id": "ChTGhJZ0VEoH",
        "outputId": "9fd4781a-4fb4-47f0-b4cf-c448f716930a"
      },
      "execution_count": 24,
      "outputs": [
        {
          "output_type": "stream",
          "name": "stdout",
          "text": [
            "True\n",
            "True\n",
            "True\n",
            "False\n"
          ]
        }
      ]
    },
    {
      "cell_type": "code",
      "source": [
        "#not\n",
        "\n",
        "print(not True)\n",
        "\n",
        "print(not False)"
      ],
      "metadata": {
        "colab": {
          "base_uri": "https://localhost:8080/"
        },
        "id": "pjI_nWy9VcyP",
        "outputId": "1e9aae58-9f8c-46b7-873c-a4e75233a240"
      },
      "execution_count": 29,
      "outputs": [
        {
          "output_type": "stream",
          "name": "stdout",
          "text": [
            "False\n",
            "True\n"
          ]
        }
      ]
    },
    {
      "cell_type": "code",
      "source": [
        "# 점점 복잡해지는 조건들!!!\n",
        "\n",
        "print(10 == 12 or 6 != 2) # False or True -> True\n",
        "print(2 > 5 and  7 == 7) # False and True -> False\n",
        "print(not 14 <= 15) # not True -> False\n",
        "print(not 7 is 7.0) # not False -> True"
      ],
      "metadata": {
        "colab": {
          "base_uri": "https://localhost:8080/"
        },
        "id": "oT4fmm6GVznX",
        "outputId": "020d4df2-b8be-4073-ed88-2ece5cdc3867"
      },
      "execution_count": 31,
      "outputs": [
        {
          "output_type": "stream",
          "name": "stdout",
          "text": [
            "True\n",
            "False\n",
            "False\n",
            "True\n"
          ]
        },
        {
          "output_type": "stream",
          "name": "stderr",
          "text": [
            "<>:6: SyntaxWarning: \"is not\" with 'int' literal. Did you mean \"!=\"?\n",
            "<>:6: SyntaxWarning: \"is not\" with 'int' literal. Did you mean \"!=\"?\n",
            "/tmp/ipython-input-1815179241.py:6: SyntaxWarning: \"is not\" with 'int' literal. Did you mean \"!=\"?\n",
            "  print(not 7 is 7.0) # not False -> True\n"
          ]
        }
      ]
    },
    {
      "cell_type": "code",
      "source": [
        "#문자열?? 너 뭐야 True 트루야?\n",
        "\n",
        "bool(\"힘들어요 여러분\")"
      ],
      "metadata": {
        "colab": {
          "base_uri": "https://localhost:8080/"
        },
        "id": "R7TSAkJQXUaX",
        "outputId": "f9238c08-8ba8-465f-e03a-91c47d63dae2"
      },
      "execution_count": 34,
      "outputs": [
        {
          "output_type": "execute_result",
          "data": {
            "text/plain": [
              "True"
            ]
          },
          "metadata": {},
          "execution_count": 34
        }
      ]
    },
    {
      "cell_type": "code",
      "source": [
        "# 굉장히 중요한 내용\n",
        "# 단락 평가 (코드를 끝까지 보지않고 결과를 예상)\n",
        "print(False and True)\n",
        "print(False and \"힘들어요\") # False and -> 0\n",
        "\n",
        "print(True and False)\n",
        "\n",
        "print(True or \"힘들어요\") # True or -> 1\n"
      ],
      "metadata": {
        "colab": {
          "base_uri": "https://localhost:8080/"
        },
        "id": "2eTA7xRwXgQG",
        "outputId": "79bf094a-2cdb-47cf-d028-07cc1c53013c"
      },
      "execution_count": 39,
      "outputs": [
        {
          "output_type": "stream",
          "name": "stdout",
          "text": [
            "False\n",
            "False\n",
            "False\n",
            "True\n"
          ]
        }
      ]
    }
  ]
}