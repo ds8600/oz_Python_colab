{
  "nbformat": 4,
  "nbformat_minor": 0,
  "metadata": {
    "colab": {
      "provenance": [],
      "authorship_tag": "ABX9TyMGJcitxa+2HYvAumC9XE5K",
      "include_colab_link": true
    },
    "kernelspec": {
      "name": "python3",
      "display_name": "Python 3"
    },
    "language_info": {
      "name": "python"
    }
  },
  "cells": [
    {
      "cell_type": "markdown",
      "metadata": {
        "id": "view-in-github",
        "colab_type": "text"
      },
      "source": [
        "<a href=\"https://colab.research.google.com/github/ds8600/oz_Python_colab/blob/main/chapter16.ipynb\" target=\"_parent\"><img src=\"https://colab.research.google.com/assets/colab-badge.svg\" alt=\"Open In Colab\"/></a>"
      ]
    },
    {
      "cell_type": "markdown",
      "source": [
        "### while문 목차\n",
        "1. while문 만들어보기\n",
        "1. while문 코드의 흐름 보기\n",
        "1. while문 조건식 증감 감소\n",
        "1. while문을 조심스럽게 사용해야하는 이유\n",
        "1. while문이 for 보다 강점인 부분\n",
        "1. continue, break\n",
        "1. while문에도 else가 있어요!\n",
        "1. 붕어빵 인터네셔널은 내가 살린다 나도 이제 개발자\n",
        "1. 예제로 while문 익혀보"
      ],
      "metadata": {
        "id": "BE2Ve7DPcTCm"
      }
    },
    {
      "cell_type": "code",
      "execution_count": 3,
      "metadata": {
        "colab": {
          "base_uri": "https://localhost:8080/"
        },
        "id": "igq602gCcNfK",
        "outputId": "98777647-c366-43c1-f917-41f5dd217ace"
      },
      "outputs": [
        {
          "output_type": "stream",
          "name": "stdout",
          "text": [
            "점점 성장하는 여러분\n",
            "점점 성장하는 여러분\n",
            "점점 성장하는 여러분\n",
            "점점 성장하는 여러분\n",
            "점점 성장하는 여러분\n",
            "점점 성장하는 여러분\n",
            "점점 성장하는 여러분\n",
            "점점 성장하는 여러분\n",
            "점점 성장하는 여러분\n",
            "점점 성장하는 여러분\n"
          ]
        }
      ],
      "source": [
        "#1. while문 만들어보기\n",
        "\n",
        "i = 0\n",
        "while i < 10:\n",
        "    print(\"점점 성장하는 여러분\")\n",
        "    i += 1"
      ]
    },
    {
      "cell_type": "code",
      "source": [
        "#3. while문 조건식 증감, 감소\n",
        "\n",
        "#1. 기본적인 증가 유형\n",
        "\n",
        "i = 0\n",
        "while i<10:\n",
        "    print(\"이정도로 성장할 줄이야\",i)\n",
        "    i += 2\n",
        "\n",
        "#2 기본적인 감소 유형\n",
        "i = 10\n",
        "while i>0:\n",
        "    print(\"이정도로 성장할 줄이야\",i)\n",
        "    i -= 2"
      ],
      "metadata": {
        "colab": {
          "base_uri": "https://localhost:8080/"
        },
        "id": "rISS_0VIeGMA",
        "outputId": "bb31c540-21ee-4b98-8538-59a24950ee60"
      },
      "execution_count": 10,
      "outputs": [
        {
          "output_type": "stream",
          "name": "stdout",
          "text": [
            "이정도로 성장할 줄이야 0\n",
            "이정도로 성장할 줄이야 2\n",
            "이정도로 성장할 줄이야 4\n",
            "이정도로 성장할 줄이야 6\n",
            "이정도로 성장할 줄이야 8\n",
            "이정도로 성장할 줄이야 10\n",
            "이정도로 성장할 줄이야 8\n",
            "이정도로 성장할 줄이야 6\n",
            "이정도로 성장할 줄이야 4\n",
            "이정도로 성장할 줄이야 2\n"
          ]
        }
      ]
    },
    {
      "cell_type": "code",
      "source": [
        "#4. while문을 조심스럽게 사용해야하는 이유\n",
        "# 조건이 잘못 설정되면 무한 루프에 빠져 과도한 리소스 소모\n",
        "# 하지만, 잘 사용하면 for문보다 효율적이다.\n",
        "\n",
        "# while True :\n",
        "#    print(1)\n",
        "\n",
        "# while True :\n",
        "#    print(\"돈 복사\")\n",
        "\n",
        "# while True :\n",
        "#    print(\"내가 산 주식 폭등\")"
      ],
      "metadata": {
        "id": "L66Sa09je6AC"
      },
      "execution_count": 11,
      "outputs": []
    },
    {
      "cell_type": "code",
      "source": [
        "#5. while문이 for문보다 강점인 부분?\n",
        "# 무수히 많이 실행되어야 될때\n",
        "\n",
        "import random\n",
        "\n",
        "random.randint(1,100)\n",
        "\n",
        "i = 0\n",
        "while i !=4:\n",
        "    i = random.randint(1,10)\n",
        "    print(i)"
      ],
      "metadata": {
        "colab": {
          "base_uri": "https://localhost:8080/"
        },
        "id": "FnGEJ2sjflj7",
        "outputId": "7fa43d25-f57c-4adc-8479-9b59c80844e7"
      },
      "execution_count": 41,
      "outputs": [
        {
          "output_type": "stream",
          "name": "stdout",
          "text": [
            "8\n",
            "5\n",
            "5\n",
            "2\n",
            "1\n",
            "4\n"
          ]
        }
      ]
    },
    {
      "cell_type": "code",
      "source": [
        "#6. while 문에도 else가 있어요\n",
        "\n",
        "양파 = 11\n",
        "while 양파 > 10:\n",
        "    print(\"양파\", 양파, \"개 남았습니다.\")\n",
        "    if 양파 ==():\n",
        "        break\n",
        "    양파 -= 1\n",
        "else :\n",
        "    print(\"양파가 다 팔렸습니다.\")"
      ],
      "metadata": {
        "colab": {
          "base_uri": "https://localhost:8080/"
        },
        "id": "EPWd3lhXgi2a",
        "outputId": "f5c08809-b03a-4663-f84d-1d549aa56b3a"
      },
      "execution_count": 45,
      "outputs": [
        {
          "output_type": "stream",
          "name": "stdout",
          "text": [
            "양파 11 개 남았습니다.\n",
            "양파가 다 팔렸습니다.\n"
          ]
        }
      ]
    },
    {
      "cell_type": "code",
      "source": [
        "#7. 반복문에 흐름을 제어하는 continue와 braek\n",
        "\n",
        "i= 0\n",
        "while True:\n",
        "    print(i)\n",
        "    i += 1\n",
        "    if i == 10:\n",
        "        break\n",
        "\n",
        "\n",
        "for i in range(100):\n",
        "    print(i)\n",
        "    if i == 10:\n",
        "        break"
      ],
      "metadata": {
        "colab": {
          "base_uri": "https://localhost:8080/"
        },
        "id": "6zSEJ523haAS",
        "outputId": "caab229b-bfbe-42ca-a449-30dce129e0cc"
      },
      "execution_count": 51,
      "outputs": [
        {
          "output_type": "stream",
          "name": "stdout",
          "text": [
            "0\n",
            "1\n",
            "2\n",
            "3\n",
            "4\n",
            "5\n",
            "6\n",
            "7\n",
            "8\n",
            "9\n",
            "0\n",
            "1\n",
            "2\n",
            "3\n",
            "4\n",
            "5\n",
            "6\n",
            "7\n",
            "8\n",
            "9\n",
            "10\n"
          ]
        }
      ]
    },
    {
      "cell_type": "code",
      "source": [
        "i = 0\n",
        "while i < 10:\n",
        "    i+=1\n",
        "    if i % 2 == 0:\n",
        "        continue\n",
        "    print(i)\n",
        "\n",
        "for i in range(10):\n",
        "    if i % 2 == 0:\n",
        "        continue\n",
        "    print(i)\n"
      ],
      "metadata": {
        "colab": {
          "base_uri": "https://localhost:8080/"
        },
        "id": "XS4PESw-iYVp",
        "outputId": "7a6d7a7a-3f47-428c-96cc-bf8138d3fdae"
      },
      "execution_count": 55,
      "outputs": [
        {
          "output_type": "stream",
          "name": "stdout",
          "text": [
            "1\n",
            "3\n",
            "5\n",
            "7\n",
            "9\n",
            "1\n",
            "3\n",
            "5\n",
            "7\n",
            "9\n"
          ]
        }
      ]
    },
    {
      "cell_type": "code",
      "source": [
        "#8. 붕어빨 인터네셔널 내가 살린다 나도 이제 개발자\n",
        "#for문을 이용해 리펙토링을 해주세요. input()......\n",
        "#잡담 게시판에 여러분에 코드를 자랑해 주세요. 깔끔한 코드 1명 / 노력상 1명 스벅 쿠폰을 보내드리겠습니다.\n",
        "\n",
        "#초기 코드 :)\n",
        "fish__p, fish__s, fish__i = \"붕어빵(팥)\", \"붕어빵(슈크림)\", \"붕어빵(잡채)\"\n",
        "...\n"
      ],
      "metadata": {
        "id": "dBhuGNZLjX9E"
      },
      "execution_count": 58,
      "outputs": []
    },
    {
      "cell_type": "code",
      "source": [
        "#9 예제로 while문 익혀보기\n",
        "\n",
        "#콜라프하는 사람이 주어진 수가 1이 될때까지 다음 작업을 반복하면, 모든 수를 1로 만들 수 있다고 추측했다.\n",
        "#작업\n",
        "#1-1. 입력된 수가 짝수라면 2로 나눈다.\n",
        "#1-2. 입력된 수가 홀수라면 3을 곱하고 1을 더한다\n",
        "#3.위 결과로 나온수에 같은 작업을 1이 될때까지 반복 한다.\n",
        "#예를 들어, 입력된 수가 6이라면 , 6 -> 3 -> 9 ->10 ->5 -> 15 -> 16 -> 8 -> 4 -> 2 -> 1\n",
        "\n",
        "# num변수에 있는 수를 1로 만드는데 몇번이나 작업을 반복 해야하는지 출력한다.\n",
        "\n",
        "num = 7\n",
        "count = 0\n",
        "\n",
        "while num != 1:\n",
        "    count += 1\n",
        "    if num%2 == 0:\n",
        "       num = num // 2\n",
        "    else :\n",
        "      num = num*3+1\n",
        "print(num, count)"
      ],
      "metadata": {
        "colab": {
          "base_uri": "https://localhost:8080/"
        },
        "id": "gLN69Kh4ke4R",
        "outputId": "d044967b-f622-4c06-932a-fa90894ddac5"
      },
      "execution_count": 93,
      "outputs": [
        {
          "output_type": "stream",
          "name": "stdout",
          "text": [
            "1 16\n"
          ]
        }
      ]
    }
  ]
}