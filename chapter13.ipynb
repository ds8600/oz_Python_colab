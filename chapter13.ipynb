{
  "nbformat": 4,
  "nbformat_minor": 0,
  "metadata": {
    "colab": {
      "provenance": [],
      "authorship_tag": "ABX9TyMqrnEpqb3a1vCKfqJDGL7q",
      "include_colab_link": true
    },
    "kernelspec": {
      "name": "python3",
      "display_name": "Python 3"
    },
    "language_info": {
      "name": "python"
    }
  },
  "cells": [
    {
      "cell_type": "markdown",
      "metadata": {
        "id": "view-in-github",
        "colab_type": "text"
      },
      "source": [
        "<a href=\"https://colab.research.google.com/github/ds8600/oz_Python_colab/blob/main/chapter13.ipynb\" target=\"_parent\"><img src=\"https://colab.research.google.com/assets/colab-badge.svg\" alt=\"Open In Colab\"/></a>"
      ]
    },
    {
      "cell_type": "markdown",
      "source": [
        "## 시퀀스 자료형\n",
        "문자열 :\n",
        "\n",
        "    * 시퀀스형에서 사용할 수 있는 메소드 (count, index, split 등\n",
        "    * 슬라이싱\n",
        "    * 요소들로 이루어져 가능했던 기능들\n",
        "list :\n",
        "\n",
        "    * 시퀀스형에서 사용할 수 있는 메소드 (count, index, split 등\n",
        "    * 슬라이싱\n",
        "    * 요소들로 이루어져 가능했던 기능들\n",
        "    * list 지원하는 다양한 메소드\n",
        "tuple :\n",
        "\n",
        "    * 리스트처럼 요소를 일렬로 저장하지만 안에 저장된 요소흫 변경, 추가, 삭제할 수 없다.\n",
        "    * 값을 추가, 삭제, 변경할 수 없기 때문에, 사용하지 못하는 메소드가 많다.\n",
        "    * tuple의 생성 방법은 tuple = 값, 값 또는 tuple = (값, 값)\n",
        "    *그리고 엄청난 비밀이 숨겨져 있어요\n",
        "    *튜플은 소괄호 입니다.\n",
        "dict(딕셔너리) :\n",
        "\n",
        "    * list, tuple, str, range(범위란에 연속된 데이터를 만드는 시퀀스였습니다) > 공통적인 특징이 데이터의 연관성이 없습니다.  \n",
        "    * dict는 여러개의 값이 일렬로 정렬되면서도 값끼리의 연관성이 존재\n",
        "    (예시 : 게임 캐릭터 힘:30, 지능:20, 체력, 40, 민첩:90)\n",
        "\n",
        "set:  \n",
        "\n",
        "        * set은 수학의 집합을 의미합니다\n",
        "        * 딕셔너리와 같이 순서가 없습니다.\n",
        "        * 값의 중복을 허락하지 않습니다. -> 아주 중요합니다.\n",
        "        * set 생성 방법도 중괄호"
      ],
      "metadata": {
        "id": "mgeo_kN7lXpS"
      }
    },
    {
      "cell_type": "code",
      "execution_count": 3,
      "metadata": {
        "colab": {
          "base_uri": "https://localhost:8080/"
        },
        "id": "ItmUoKDHlG_V",
        "outputId": "9c4c7cad-12c1-4e81-e203-ac1fde52151f"
      },
      "outputs": [
        {
          "output_type": "stream",
          "name": "stdout",
          "text": [
            "{'대파', '양파', '배추', '당근'}\n",
            "set()\n",
            "{}\n"
          ]
        }
      ],
      "source": [
        "채소 = {\"당근\", '배추', \"대파\", \"양파\"}\n",
        "type(채소)\n",
        "print(채소)\n",
        "\n",
        "# 순서가 없고, 출력하면 요소가 다르게 나오는것도 특징입니다.\n",
        "\n",
        "# 세트를 만드는 다양한 방법\n",
        "세트 = set()\n",
        "print(세트)\n",
        "세트2 = {}\n",
        "print(세트2)"
      ]
    },
    {
      "cell_type": "code",
      "source": [
        "# 중복을 제일 싫어하는 set\n",
        "\n",
        "사과_list = list(\"apple\")\n",
        "print(사과_list)\n",
        "사과_튜플 = tuple(\"apple\")\n",
        "print(사과_튜플)\n",
        "사과_set = set(\"apple\")\n",
        "print(사과_set)"
      ],
      "metadata": {
        "colab": {
          "base_uri": "https://localhost:8080/"
        },
        "id": "cM8ssXgLm0yY",
        "outputId": "1ee29947-6c19-4a7d-c14b-7013d262a8ec"
      },
      "execution_count": 4,
      "outputs": [
        {
          "output_type": "stream",
          "name": "stdout",
          "text": [
            "['a', 'p', 'p', 'l', 'e']\n",
            "('a', 'p', 'p', 'l', 'e')\n",
            "{'p', 'e', 'l', 'a'}\n"
          ]
        }
      ]
    },
    {
      "cell_type": "code",
      "source": [
        "# set() 자료형의 데이터 추가, 삭제, 변경\n",
        "\n",
        "#set() 함수의 데이터 삽입\n",
        "#채소.add(\"토마토\")\n",
        "채소\n",
        "\n",
        "#채소.update(\"깻잎\")\n",
        "채소\n",
        "\n",
        "#set() 함수의 데이터 삭제\n",
        "# 채소.remove(\"잎\")\n",
        "채소.discard(\"깻\")\n",
        "채소\n",
        "\n",
        "채소.pop()\n",
        "채소\n"
      ],
      "metadata": {
        "colab": {
          "base_uri": "https://localhost:8080/"
        },
        "id": "VGoN54LYnw5g",
        "outputId": "c145aaf5-7496-4509-e8cd-3343c2d01f5d"
      },
      "execution_count": 12,
      "outputs": [
        {
          "output_type": "execute_result",
          "data": {
            "text/plain": [
              "{'대파', '배추', '양파'}"
            ]
          },
          "metadata": {},
          "execution_count": 12
        }
      ]
    },
    {
      "cell_type": "code",
      "source": [
        "채소 = {\"당근\", \"배추\", \"대파\", \"양파\"}\n",
        "반환된_채소 = 채소.pop()\n",
        "print(f\" {반환된_채소}는 내다버린 채소입니다.\")"
      ],
      "metadata": {
        "colab": {
          "base_uri": "https://localhost:8080/"
        },
        "id": "ziT0zfJAZapy",
        "outputId": "13370601-97b9-4837-f6c7-8dc90df0b4ec"
      },
      "execution_count": 25,
      "outputs": [
        {
          "output_type": "stream",
          "name": "stdout",
          "text": [
            " 대파는 내다버린 채소입니다.\n"
          ]
        }
      ]
    },
    {
      "cell_type": "code",
      "source": [
        "채소"
      ],
      "metadata": {
        "colab": {
          "base_uri": "https://localhost:8080/"
        },
        "id": "P_TQFn4UZwiB",
        "outputId": "a008317f-a686-4aea-ba54-d8fe420583f9"
      },
      "execution_count": 27,
      "outputs": [
        {
          "output_type": "execute_result",
          "data": {
            "text/plain": [
              "{'당근', '배추', '양파'}"
            ]
          },
          "metadata": {},
          "execution_count": 27
        }
      ]
    },
    {
      "cell_type": "code",
      "source": [
        "# set = 집합, 합집합, 교집합, 차지합, 기타 등등 ~!\n",
        "# 대표적 합집합, 교집합, 차집합\n",
        "\n",
        "채소1 = {\"당근\", \"양파\", \"오이\", \"배추\"}\n",
        "채소2 = {\"양파\", \"오이\", \"대파\", \"가지\"}\n",
        "\n",
        "# 합집합\n",
        "print(채소1| 채소2)\n",
        "print(set.union(채소1,채소2))\n",
        "# 교집합\n",
        "print(채소1 & 채소2)\n",
        "print(set.intersection(채소1,채소2))\n",
        "# 차집합\n",
        "print(채소1 - 채소2)\n",
        "print(set.difference(채소1,채소2))"
      ],
      "metadata": {
        "colab": {
          "base_uri": "https://localhost:8080/"
        },
        "id": "O0uCljJyagni",
        "outputId": "525389df-2c6d-45f1-8e81-1e4391a00403"
      },
      "execution_count": 35,
      "outputs": [
        {
          "output_type": "stream",
          "name": "stdout",
          "text": [
            "{'당근', '배추', '가지', '오이', '양파', '대파'}\n",
            "{'당근', '배추', '가지', '오이', '양파', '대파'}\n",
            "{'오이', '양파'}\n",
            "{'오이', '양파'}\n",
            "{'배추', '당근'}\n",
            "{'배추', '당근'}\n"
          ]
        }
      ]
    }
  ]
}