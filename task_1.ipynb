{
  "cells": [
    {
      "cell_type": "markdown",
      "metadata": {
        "id": "view-in-github",
        "colab_type": "text"
      },
      "source": [
        "<a href=\"https://colab.research.google.com/github/ds8600/oz_Python_colab/blob/main/task_1.ipynb\" target=\"_parent\"><img src=\"https://colab.research.google.com/assets/colab-badge.svg\" alt=\"Open In Colab\"/></a>"
      ]
    },
    {
      "cell_type": "markdown",
      "metadata": {
        "id": "X6QIBwMYNIno"
      },
      "source": [
        "안녕하세요. 수강생 여러분~! Chapter33 ~ 41 수업은 잘 들으셨나요?\n",
        "\n",
        "Chapter33 ~ 41의 수업 내용을 바탕으로 아래 문제를 풀어주시면 됩니다.\n",
        "\n",
        "\n",
        "<br>\n",
        "\n",
        "\n",
        "[**답변 입력 방법**]\n",
        "\n",
        "문제 아래에 있는 코드 입력창에 정답코드를 작성하신 후  __▷ 버튼을 클릭해 코드를 실행__ 해보세요<br>"
      ]
    },
    {
      "cell_type": "markdown",
      "metadata": {
        "id": "A-uIiYP3NIno"
      },
      "source": [
        "---"
      ]
    },
    {
      "cell_type": "markdown",
      "metadata": {
        "id": "xFbJvRA0NIno"
      },
      "source": [
        "[문제 1]\n",
        "\n",
        "사용자로부터 두 개의 숫자를 입력받아 나눗셈을 수행하는 프로그램을 작성하세요.\n",
        "\n",
        "[예외처리]\n",
        "- 입력 값이 숫자가 아닐 때 발생할 수 있는 ValueError\n",
        "- 나누는 수가 0일 때 발생할 수 있는 ZeroDivisionError\n",
        "- 위 2가지 예외처리 후 사용자에게 이해하기 쉬운 메시지 작성 후 출력되도록 코드를 작성"
      ]
    },
    {
      "cell_type": "code",
      "execution_count": null,
      "metadata": {
        "colab": {
          "base_uri": "https://localhost:8080/"
        },
        "id": "Ew1LShboNInp",
        "outputId": "98c38c59-7ebb-4041-aef7-a9617ba07956"
      },
      "outputs": [
        {
          "output_type": "stream",
          "name": "stdout",
          "text": [
            "나눌 숫자를 입력해주세요a\n",
            "입력된 값이 숫자가 아닙니다.\n"
          ]
        }
      ],
      "source": [
        "try:\n",
        "    Number = 800\n",
        "    number = int(input(\"나눌 숫자를 입력해주세요\"))\n",
        "    answer = Number / number\n",
        "    print(answer)\n",
        "except ValueError:\n",
        "    print(\"입력된 값이 숫자가 아닙니다.\")\n",
        "except ZeroDivisionError:\n",
        "    print(\"0으로는 나눌 수 없습니다.\")"
      ]
    },
    {
      "cell_type": "markdown",
      "metadata": {
        "id": "0IM5tOcGNInp"
      },
      "source": [
        "---"
      ]
    },
    {
      "cell_type": "markdown",
      "metadata": {
        "id": "S3hnmlV4NInp"
      },
      "source": [
        "[문제 2]\n",
        "\n",
        "파일을 읽어서 내용을 출력하는 프로그램을 작성하세요.\n",
        "\n",
        "- 파일이 존재하지 않을 때 발생하는 FileNotFoundError를 처리\n",
        "- 파일이 존재하지 않을 경우 \"파일을 찾을 수 없습니다.\"라는 메시지를 출력"
      ]
    },
    {
      "cell_type": "code",
      "execution_count": null,
      "metadata": {
        "id": "rGJvDfc-NInp",
        "colab": {
          "base_uri": "https://localhost:8080/"
        },
        "outputId": "53ebf295-2599-4844-921d-6c7e13004511"
      },
      "outputs": [
        {
          "output_type": "stream",
          "name": "stdout",
          "text": [
            "읽을 파일 이름을 입력하세요: 4\n",
            "파일을 찾을 수 없습니다.\n"
          ]
        }
      ],
      "source": [
        "Name = input(\"읽을 파일 이름을 입력하세요: \")\n",
        "\n",
        "try:\n",
        "    with open(Name, \"r\", encoding=\"utf-8\") as file:\n",
        "        content = file.read()\n",
        "        print(content)\n",
        "except FileNotFoundError:\n",
        "    print(\"파일을 찾을 수 없습니다.\")"
      ]
    },
    {
      "cell_type": "markdown",
      "metadata": {
        "id": "A0uQJw1jNInp"
      },
      "source": [
        "---"
      ]
    },
    {
      "cell_type": "markdown",
      "metadata": {
        "id": "FluQL5GBNInp"
      },
      "source": [
        "[문제 3]\n",
        "\n",
        "사용자로부터 여러 개의 숫자를 입력받아 리스트에 저장한 후, 사용자가 'done'이라고 입력할 때까지 계속 입력받으세요.\n",
        "\n",
        "- 입력 중 숫자가 아닌 값이 입력되면 ValueError를 처리\n",
        "- 숫자 외 값이 입력된 경우 어떤 값이 잘못 입력되었는지 사용자에게 알려주는 문구 출력<br>\n",
        "  (예: f\"잘못된 값: {변수}. 숫자를 입력해주세요.\")\n",
        "\n"
      ]
    },
    {
      "cell_type": "code",
      "execution_count": null,
      "metadata": {
        "id": "vZ4n0lkBNInq",
        "colab": {
          "base_uri": "https://localhost:8080/"
        },
        "outputId": "08f36b23-3cfd-4074-d18e-b49e6b6e5f38"
      },
      "outputs": [
        {
          "output_type": "stream",
          "name": "stdout",
          "text": [
            "리스트에 들어갈 숫자를 입력해주세요.5\n",
            "[5]\n",
            "리스트에 들어갈 숫자를 입력해주세요.6\n",
            "[5, 6]\n",
            "리스트에 들어갈 숫자를 입력해주세요.7\n",
            "[5, 6, 7]\n",
            "리스트에 들어갈 숫자를 입력해주세요.88\n",
            "[5, 6, 7, 88]\n",
            "리스트에 들어갈 숫자를 입력해주세요.s\n",
            "잘못된 값: s. 숫자를 입력해주세요.\n",
            "리스트에 들어갈 숫자를 입력해주세요.done\n",
            "[5, 6, 7, 88]\n"
          ]
        }
      ],
      "source": [
        "#1.입력 받아 리스트에 저장\n",
        "#2.반복\n",
        "#3.잘못된값(타입에러)인경우 ValueError처리\n",
        "#4.ValueError일 경우 \"잘못된값:{변수}.숫자를 입력해주세요\"입력\n",
        "#5.done을 입력하면 종료\n",
        "Number = []\n",
        "while True:\n",
        "    N_List = input(\"리스트에 들어갈 숫자를 입력해주세요.\") #1,2\n",
        "    if N_List == \"done\":#5\n",
        "        print(Number)\n",
        "        break\n",
        "    try:\n",
        "        N_List = list(map(int,(N_List).split(\",\")))#3\n",
        "        Number += N_List\n",
        "        print(Number)\n",
        "    except ValueError:#4\n",
        "        print(f\"잘못된 값: {N_List}. 숫자를 입력해주세요.\")\n",
        "\n"
      ]
    },
    {
      "cell_type": "markdown",
      "metadata": {
        "id": "xIMpYWcBNInq"
      },
      "source": [
        "---"
      ]
    },
    {
      "cell_type": "markdown",
      "metadata": {
        "id": "NBuE9vX_NInq"
      },
      "source": [
        "[문제 4]\n",
        "\n",
        "사용자 정의 예외 NegativeNumberError를 생성하고, 사용자로부터 숫자를 입력받아 음수일 경우 NegativeNumberError를 발생시키는 프로그램을 작성하세요.\n",
        "\n",
        "- 예외 처리 구문을 사용하여 음수 입력 시 \"양수를 입력해주세요.\"라는 메시지를 출력"
      ]
    },
    {
      "cell_type": "code",
      "execution_count": null,
      "metadata": {
        "id": "Jc0e-Uu9NInq",
        "colab": {
          "base_uri": "https://localhost:8080/"
        },
        "outputId": "b7c8c777-0c39-4052-8a52-09b0230b2b1c"
      },
      "outputs": [
        {
          "output_type": "stream",
          "name": "stdout",
          "text": [
            "숫자를 입력하세요: -1\n",
            "양수를 입력해주세요.\n"
          ]
        }
      ],
      "source": [
        "class NegativeNumberError(Exception):\n",
        "    pass\n",
        "try:\n",
        "    num = int(input(\"숫자를 입력하세요: \"))\n",
        "    if num < 0:\n",
        "        raise NegativeNumberError\n",
        "    print(\"입력한 숫자:\", num)\n",
        "except NegativeNumberError:\n",
        "    print(\"양수를 입력해주세요.\")"
      ]
    },
    {
      "cell_type": "markdown",
      "metadata": {
        "id": "6c3S746iNInq"
      },
      "source": [
        "---"
      ]
    },
    {
      "cell_type": "markdown",
      "metadata": {
        "id": "LEHtT5WyNInq"
      },
      "source": [
        "[문제 5]\n",
        "\n",
        "datetime 모듈을 사용하여 현재 날짜와 시간을 출력하는 프로그램을 작성하세요.\n",
        "\n",
        "또한, 사용자로부터 태어난 년도를 입력받아 현재 나이를 계산하여 출력하세요."
      ]
    },
    {
      "cell_type": "code",
      "execution_count": null,
      "metadata": {
        "id": "8Mm-HNwtNInq",
        "colab": {
          "base_uri": "https://localhost:8080/"
        },
        "outputId": "efb58f0d-19eb-42d8-b1d7-0aead3a8163a"
      },
      "outputs": [
        {
          "output_type": "stream",
          "name": "stdout",
          "text": [
            "태어난 년도를 숫자만 입력하세요.1997\n",
            "29\n"
          ]
        }
      ],
      "source": [
        "import datetime\n",
        "\n",
        "now = datetime.datetime.now()\n",
        "year = now.year\n",
        "birth_year = input(\"태어난 년도를 숫자만 입력하세요.\")\n",
        "korea_age = year - int(birth_year) + 1\n",
        "print(korea_age)"
      ]
    },
    {
      "cell_type": "markdown",
      "metadata": {
        "id": "9Mdqs-jUNInq"
      },
      "source": [
        "---"
      ]
    },
    {
      "cell_type": "markdown",
      "metadata": {
        "id": "NWhzskGENInq"
      },
      "source": [
        "[문제 6]\n",
        "\n",
        "requests 모듈을 사용하여, 웹 페이지의 HTML을 가져오는 간단한 웹 스크레이퍼를 작성하세요.\n",
        "\n",
        "'https://kream.co.kr/'에서<br>\n",
        "데이터를 가져와서 상태 코드와 HTML의 첫 100자를 출력하세요.<br>\n",
        "(실습 전 requests 모듈을 설치해야 함)"
      ]
    },
    {
      "cell_type": "code",
      "execution_count": null,
      "metadata": {
        "id": "ZhSWtp_JNInq",
        "colab": {
          "base_uri": "https://localhost:8080/"
        },
        "outputId": "dca90f36-c342-4937-a416-36bbbe8e272d"
      },
      "outputs": [
        {
          "output_type": "stream",
          "name": "stdout",
          "text": [
            "Requirement already satisfied: requests in /usr/local/lib/python3.12/dist-packages (2.32.4)\n",
            "Requirement already satisfied: charset_normalizer<4,>=2 in /usr/local/lib/python3.12/dist-packages (from requests) (3.4.4)\n",
            "Requirement already satisfied: idna<4,>=2.5 in /usr/local/lib/python3.12/dist-packages (from requests) (3.11)\n",
            "Requirement already satisfied: urllib3<3,>=1.21.1 in /usr/local/lib/python3.12/dist-packages (from requests) (2.5.0)\n",
            "Requirement already satisfied: certifi>=2017.4.17 in /usr/local/lib/python3.12/dist-packages (from requests) (2025.10.5)\n"
          ]
        }
      ],
      "source": [
        "!pip install requests"
      ]
    },
    {
      "cell_type": "code",
      "source": [
        "import requests\n",
        "print(requests.__version__)"
      ],
      "metadata": {
        "colab": {
          "base_uri": "https://localhost:8080/"
        },
        "id": "rLrteyZdLM6S",
        "outputId": "f12dc45e-3b00-44b3-cbee-eb466701800f"
      },
      "execution_count": null,
      "outputs": [
        {
          "output_type": "stream",
          "name": "stdout",
          "text": [
            "2.32.4\n"
          ]
        }
      ]
    },
    {
      "cell_type": "code",
      "source": [
        "import requests\n",
        "\n",
        "site = \"https://kream.co.kr/\"\n",
        "\n",
        "response = requests.get(site)\n",
        "\n",
        "print(\"코드:\", response.status_code)\n",
        "\n",
        "print(\"HTML 내용 첫100자:\")\n",
        "print(response.text[:100])"
      ],
      "metadata": {
        "colab": {
          "base_uri": "https://localhost:8080/"
        },
        "id": "N8X9BkqlLd5j",
        "outputId": "d581e243-3b31-4e4a-9f82-8c8c1c3bf73f"
      },
      "execution_count": null,
      "outputs": [
        {
          "output_type": "stream",
          "name": "stdout",
          "text": [
            "코드: 500\n",
            "HTML 내용 첫100자:\n",
            "<!DOCTYPE html>\n",
            "<html lang=\"ko\">\n",
            "<head>\n",
            "<meta name=\"robots\" content=\"noindex, nofollow\" />\n",
            "<meta htt\n"
          ]
        }
      ]
    },
    {
      "cell_type": "markdown",
      "metadata": {
        "id": "gAgBOGUnNInq"
      },
      "source": [
        "---"
      ]
    },
    {
      "cell_type": "markdown",
      "metadata": {
        "id": "XJFerRzxNInr"
      },
      "source": [
        "[문제 7]\n",
        "\n",
        "함수 실행 시간을 측정하는 데코레이터 timer_decorator를 작성하세요.\n",
        "\n",
        "임의의 함수가 실행되는 시간을 측정하여 \"함수 실행 시간: x.xx초\" 형태로 출력하세요."
      ]
    },
    {
      "cell_type": "code",
      "execution_count": null,
      "metadata": {
        "id": "gh5jskEYNInr",
        "colab": {
          "base_uri": "https://localhost:8080/"
        },
        "outputId": "acada394-cbca-4ec8-d281-0d51ccb74b84"
      },
      "outputs": [
        {
          "output_type": "stream",
          "name": "stdout",
          "text": [
            "더할 숫자를 ,사용하여 입력해주세요5,2\n",
            "7\n",
            "함수 실행 시간: 2.5080795288085938 초\n"
          ]
        }
      ],
      "source": [
        "import time\n",
        "\n",
        "def deco(func):\n",
        "    def B():\n",
        "        def_start = time.time()\n",
        "        func()\n",
        "        def_end = time.time()\n",
        "        print(\"함수 실행 시간:\", def_end - def_start, \"초\")\n",
        "    return B\n",
        "@deco\n",
        "def plus():\n",
        "    A = map(int,input(\"더할 숫자를 ,사용하여 입력해주세요\").split(\",\"))\n",
        "    print(sum(A))\n",
        "\n",
        "plus()"
      ]
    },
    {
      "cell_type": "markdown",
      "metadata": {
        "id": "9kYhvkD3NInr"
      },
      "source": [
        "---"
      ]
    },
    {
      "cell_type": "markdown",
      "metadata": {
        "id": "tXGMEy0oNInr"
      },
      "source": [
        "[문제 8]\n",
        "\n",
        "여러분이 자주 사용하는 수학적 연산<br>\n",
        "(예: 삼각형 넓이, 원의 넓이, 직육면체의 넓이)을 수행하는 함수들을 포함하는 mymath.py라는 이름의 모듈을 만드세요.\n",
        "\n",
        "이 모듈을 사용하여 작성된 함수들을 실제로 임포트하고 사용하는 간단한 프로그램을 작성하세요."
      ]
    },
    {
      "cell_type": "code",
      "execution_count": 5,
      "metadata": {
        "id": "YCHGIfbLNInr"
      },
      "outputs": [],
      "source": [
        "# mymath.py\n",
        "\n",
        "def triangle_area(low_line, height):\n",
        "    return low_line * height / 2\n",
        "\n",
        "def circle_area(radius):\n",
        "    return 3.14 * radius * radius\n",
        "\n",
        "def cuboid_area(width, depth, height):\n",
        "    return 2 * (width * depth + width * height + depth * height)"
      ]
    },
    {
      "cell_type": "code",
      "execution_count": 7,
      "metadata": {
        "id": "CuW7jVSoNInr",
        "colab": {
          "base_uri": "https://localhost:8080/"
        },
        "outputId": "3b591286-8897-45ef-b1d1-e8f0d0640371"
      },
      "outputs": [
        {
          "output_type": "stream",
          "name": "stdout",
          "text": [
            "삼각형 넓이: 25.0\n",
            "원의 넓이: 28.259999999999998\n",
            "직육면체의 넓이: 94\n"
          ]
        }
      ],
      "source": [
        "import mymath\n",
        "\n",
        "print(\"삼각형 넓이:\", mymath.triangle_area(10, 5))\n",
        "print(\"원의 넓이:\", mymath.circle_area(3))\n",
        "print(\"직육면체의 넓이:\", mymath.cuboid_area(3, 4, 5))"
      ]
    },
    {
      "cell_type": "markdown",
      "metadata": {
        "id": "VCqp8qAFNInr"
      },
      "source": [
        "---"
      ]
    },
    {
      "cell_type": "markdown",
      "metadata": {
        "id": "G6lm-2PJNInr"
      },
      "source": [
        "[문제 9]\n",
        "\n",
        "animals라는 패키지를 만들고, 이 패키지 내에 mammals, birds라는 두 개의 서브 모듈을 생성하세요.\n",
        "\n",
        "- 각 모듈에는 최소한 한 개 이상의 동물에 관한 클래스를 정의하세요<br>\n",
        "  (예: mammals에는 Dog, birds에는 Eagle)\n",
        "- 이 패키지와 모듈을 사용하여 동물들의 정보를 출력하는 프로그램을 작성\n",
        "\n",
        "폴더 및 파일 구조\n",
        "```\n",
        "animals/(폴더)\n",
        "├── __init__.py\n",
        "├── mammals.py\n",
        "└── birds.py\n",
        "```\n"
      ]
    },
    {
      "cell_type": "code",
      "execution_count": 1,
      "metadata": {
        "id": "X67TY4JONInr",
        "colab": {
          "base_uri": "https://localhost:8080/"
        },
        "outputId": "e0c21691-9ec6-48a9-944b-0e0634272574"
      },
      "outputs": [
        {
          "output_type": "stream",
          "name": "stdout",
          "text": [
            "<animals.mammals.Dog object at 0x7aa446ef5490> : 멍멍!\n",
            "<animals.birds.Eagle object at 0x7aa446ef61b0> : 끼이이익!\n"
          ]
        }
      ],
      "source": [
        "from animals.mammals import Dog\n",
        "from animals.birds import Eagle\n",
        "\n",
        "dog = Dog()\n",
        "eagle = Eagle()\n",
        "\n",
        "print(dog, \":\", dog.speak())\n",
        "print(eagle, \":\", eagle.speak())"
      ]
    },
    {
      "cell_type": "code",
      "execution_count": null,
      "metadata": {
        "id": "MB-88wcUNInr"
      },
      "outputs": [],
      "source": []
    },
    {
      "cell_type": "code",
      "execution_count": null,
      "metadata": {
        "id": "F-3chgWNNInr"
      },
      "outputs": [],
      "source": []
    },
    {
      "cell_type": "markdown",
      "metadata": {
        "id": "mnbHydugNInr"
      },
      "source": [
        "---"
      ]
    }
  ],
  "metadata": {
    "language_info": {
      "name": "python"
    },
    "colab": {
      "provenance": [],
      "include_colab_link": true
    },
    "kernelspec": {
      "name": "python3",
      "display_name": "Python 3"
    }
  },
  "nbformat": 4,
  "nbformat_minor": 0
}