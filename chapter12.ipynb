{
  "nbformat": 4,
  "nbformat_minor": 0,
  "metadata": {
    "colab": {
      "provenance": [],
      "authorship_tag": "ABX9TyPpePGJuO9EWE603ctqlHym",
      "include_colab_link": true
    },
    "kernelspec": {
      "name": "python3",
      "display_name": "Python 3"
    },
    "language_info": {
      "name": "python"
    }
  },
  "cells": [
    {
      "cell_type": "markdown",
      "metadata": {
        "id": "view-in-github",
        "colab_type": "text"
      },
      "source": [
        "<a href=\"https://colab.research.google.com/github/ds8600/oz_Python_colab/blob/main/chapter12.ipynb\" target=\"_parent\"><img src=\"https://colab.research.google.com/assets/colab-badge.svg\" alt=\"Open In Colab\"/></a>"
      ]
    },
    {
      "cell_type": "markdown",
      "source": [
        "##시퀀스 자료형\n",
        "\n",
        "문자열 :\n",
        "\n",
        "        * 시퀀스형에서 사용할 수 있는 메소드 (count, index, split 등\n",
        "        * 슬라이싱\n",
        "        * 요소들로 이루어져 가능했던 기능들\n",
        "list :\n",
        "\n",
        "        * 시퀀스형에서 사용할 수 있는 메소드 (count, index, split 등\n",
        "        * 슬라이싱\n",
        "        * 요소들로 이루어져 가능했던 기능들\n",
        "        * list 지원하는 다양한 메소드\n",
        "\n",
        "tuple :\n",
        "\n",
        "        * 리스트처럼 요소를 일렬로 저장하지만 안에 저장된 요소흫 변경, 추가, 삭제할 수 없다.\n",
        "        * 값을 추가, 삭제, 변경할 수 없기 때문에, 사용하지 못하는 메소드가 많다.\n",
        "        * tuple의 생성 방법은 tuple = 값, 값 또는 tuple = (값, 값)\n",
        "        *그리고 엄청난 비밀이 숨겨져 있어요\n",
        "        *튜플은 소괄호 입니다.\n",
        "\n",
        "dict(딕셔너리)\n",
        "\n",
        "        * list, tuple, str, range(범위란에 연속된 데이터를 만드는 시퀀스였습니다) > 공통적인 특징이 데이터의 연관성이 없습니다.  \n",
        "        * dict는 여러개의 값이 일렬로 정렬되면서도 값끼리의 연관성이 존재\n",
        "        (예시 : 게임 캐릭터 힘:30, 지능:20, 체력, 40, 민첩:90)\n",
        "        "
      ],
      "metadata": {
        "id": "JA_ZEzVwYisy"
      }
    },
    {
      "cell_type": "code",
      "execution_count": 4,
      "metadata": {
        "colab": {
          "base_uri": "https://localhost:8080/"
        },
        "id": "O27tNTbtYXoN",
        "outputId": "5dff4c57-2e1e-4a4d-97ea-25786fdc8ddb"
      },
      "outputs": [
        {
          "output_type": "stream",
          "name": "stdout",
          "text": [
            "짱짬맨은 힘이30입니다.\n"
          ]
        }
      ],
      "source": [
        "# list는 [], tuple는(), dict{}\n",
        "\n",
        "짱짱맨 = {\"힘\":30, \"지능\": 20, \"체력\": 40, \"민첩\":90}\n",
        "짱짱맨\n",
        "\n",
        "#{키:값}\n",
        "#{key1:valie1, key2:value2}\n",
        "\n",
        "# dict는 인덱싱이 불가\n",
        "\n",
        "# 짱짱맨[1] 대신\n",
        "짱짱맨[\"힘\"]\n",
        "print(f\"짱짬맨은 힘이{짱짱맨[\"힘\"]}입니다.\")"
      ]
    },
    {
      "cell_type": "code",
      "source": [
        "# 딕샤너리를 만드는 다양한 방법\n",
        "\n",
        "#빈 딕셔너리 만들기\n",
        "\n",
        "딕셔너리 = {}\n",
        "딕셔너리\n",
        "\n",
        "딕셔너리2 = dict()\n",
        "딕셔너리2\n",
        "\n",
        "# 값을 넣어 만드는 방법\n",
        "# dict() 로 생성시 값넣는 기호\" \" : 주의해주세요\n",
        "딕셔너리3 = dict(힘=30, 지능=20, 체력=40, 민첩=90)\n",
        "딕셔너리3\n",
        "\n",
        "#zip() : 병렬처리를 도와줍니다.\n",
        "딕셔너리4 = dict(zip([\"힘\",\"지능\", \"체력\", \"민첩\"], [30,20,40,90]))\n",
        "딕셔너리4"
      ],
      "metadata": {
        "colab": {
          "base_uri": "https://localhost:8080/"
        },
        "id": "tRCMqXITaWEM",
        "outputId": "4a70e095-77cd-4f32-e8f8-8ff87316b52b"
      },
      "execution_count": 13,
      "outputs": [
        {
          "output_type": "execute_result",
          "data": {
            "text/plain": [
              "{'힘': 30, '지능': 20, '체력': 40, '민첩': 90}"
            ]
          },
          "metadata": {},
          "execution_count": 13
        }
      ]
    },
    {
      "cell_type": "code",
      "source": [
        "# 값의 중복은 허락되는데 , 키의 중복은 허락하지 않습니다.\n",
        "짱짱맨 = {\"힘\":30, \"지능\": 20, \"체력\": 40, \"민첩\":90, \"힘\":40, \"지구력\":90}\n",
        "print(짱짱맨)\n",
        "#힘이 한개만 나옴\n",
        "\n",
        "\"체력\"in 짱짱맨"
      ],
      "metadata": {
        "colab": {
          "base_uri": "https://localhost:8080/"
        },
        "id": "TzAu9ZvFa-YT",
        "outputId": "b344d4f3-a01d-4ce4-9688-756841fe1332"
      },
      "execution_count": 19,
      "outputs": [
        {
          "output_type": "stream",
          "name": "stdout",
          "text": [
            "{'힘': 40, '지능': 20, '체력': 40, '민첩': 90, '지구력': 90}\n"
          ]
        },
        {
          "output_type": "execute_result",
          "data": {
            "text/plain": [
              "True"
            ]
          },
          "metadata": {},
          "execution_count": 19
        }
      ]
    },
    {
      "cell_type": "code",
      "source": [
        "#딕셔너리에 다양한 메소드\n",
        "\n",
        "print(짱짱맨.keys())\n",
        "print(짱짱맨.values())\n",
        "\n",
        "print(짱짱맨.items())\n",
        "print(type(짱짱맨.items()))\n",
        "\n",
        "리스트화된_짱짱맨 = list(짱짱맨.items())\n",
        "print(리스트화된_짱짱맨)\n",
        "리스트화된_짱짱맨[0][1]"
      ],
      "metadata": {
        "colab": {
          "base_uri": "https://localhost:8080/"
        },
        "id": "jrw9-14jcLDz",
        "outputId": "426ba7d1-e6d7-45b4-f780-8d3fa3b2dd06"
      },
      "execution_count": 29,
      "outputs": [
        {
          "output_type": "stream",
          "name": "stdout",
          "text": [
            "dict_keys(['힘', '지능', '체력', '민첩', '지구력'])\n",
            "dict_values([40, 20, 40, 90, 90])\n",
            "dict_items([('힘', 40), ('지능', 20), ('체력', 40), ('민첩', 90), ('지구력', 90)])\n",
            "<class 'dict_items'>\n",
            "[('힘', 40), ('지능', 20), ('체력', 40), ('민첩', 90), ('지구력', 90)]\n"
          ]
        },
        {
          "output_type": "execute_result",
          "data": {
            "text/plain": [
              "40"
            ]
          },
          "metadata": {},
          "execution_count": 29
        }
      ]
    },
    {
      "cell_type": "code",
      "source": [
        "# 딕셔너리 값 추가, 삭제, 변경\n",
        "짱짱맨\n",
        "\n",
        "# del 짱짱맨[\"지구력\"]\n",
        "# 짱짱맨\n",
        "\n",
        "# 딕셔너리 값 변경\n",
        "\n",
        "# 짱짱맨[\"지능\"] = 100\n",
        "# 짱짱맨\n",
        "\n",
        "# 딕셔너리 값 추가\n",
        "짱짱맨.update({\"손재주\":44,\"매력\":100})\n",
        "짱짱맨"
      ],
      "metadata": {
        "colab": {
          "base_uri": "https://localhost:8080/"
        },
        "id": "_5DWj4EidpfD",
        "outputId": "6ee36cea-4b4f-4d8c-f491-b57b00cf0db5"
      },
      "execution_count": 35,
      "outputs": [
        {
          "output_type": "execute_result",
          "data": {
            "text/plain": [
              "{'힘': 40, '지능': 100, '체력': 40, '민첩': 90, '손재주': 44, '매력': 100}"
            ]
          },
          "metadata": {},
          "execution_count": 35
        }
      ]
    },
    {
      "cell_type": "code",
      "source": [
        "코디 = {\n",
        "    \"모자\" : {\n",
        "        \"캡\" : \"셀린느\",\n",
        "        \"비니\": \"발랜시아\"\n",
        "    }, \"상의\" :{\n",
        "        \"후드티\" : \"칼하트\",\n",
        "        \"맨투맨\" :\"슈프림\"\n",
        "    }}\n",
        "코디\n",
        "코디[\"모자\"]\n",
        "코디[\"모자\"][\"캡\"]"
      ],
      "metadata": {
        "colab": {
          "base_uri": "https://localhost:8080/",
          "height": 35
        },
        "id": "2wLhrQhJeVpr",
        "outputId": "ff84835a-ffb8-40e0-c1ad-8e8e966ea2d5"
      },
      "execution_count": 47,
      "outputs": [
        {
          "output_type": "execute_result",
          "data": {
            "text/plain": [
              "'셀린느'"
            ],
            "application/vnd.google.colaboratory.intrinsic+json": {
              "type": "string"
            }
          },
          "metadata": {},
          "execution_count": 47
        }
      ]
    },
    {
      "cell_type": "markdown",
      "source": [
        "* 해시, 해시맵, 해비테이블"
      ],
      "metadata": {
        "id": "cbUtImtZfZu2"
      }
    },
    {
      "cell_type": "code",
      "source": [
        "#레거시 : 누눈가 남겨두고간 코드\n",
        "#리펙토링 : 결과의 변경 없이 코드의 구조를 재조정하는 것\n",
        "#input()\n",
        "#dict 이력서를 작성했어요 . 붕어빵 인터네셔널 채용공고 열정만 있으면 오세요.\n",
        "#리펙토링 해달라고 합니다.\n",
        "\n",
        "# fish__p , fish__s , fish__j = \"붕어빵(팥)\", \"붕어빵(슈크림)\", \"붕어빵(잡채)\" -> f'string에 포함\n",
        "order_p, order_s, order_j = map(int, input('붕어빵(팥), 붕어빵(슈크림), 붕어빵(잡채)를 순서대로 개수를 입력하고 꼭 쉼표를 입력하고 그리고 안사는 붕어빵에는 0을 넣어줘. 숫자만!!').split(','))\n",
        "fish__p__sell , fish__s__sell , fish__j_sell = 2000, 2500, 3000\n",
        "# order_p__pay, order_s__pay, order_j__pay = (fish__p__sell) * (order_p), (fish__s__sell) * (order_s), (fish__j_sell) * (order_j) -> order_pay 리스트로 변경\n",
        "order_pay = (fish__p__sell) * (order_p), (fish__s__sell) * (order_s), (fish__j_sell) * (order_j)\n",
        "total = order_p + order_s + order_j\n",
        "# total_pay = (order_p__pay)+(order_s__pay)+(order_j__pay) -> 리스트 총 합 sum 사용\n",
        "total_pay = sum(list(order_pay))\n",
        "\n",
        "print(f'주문이 완료되었습니다. 붕어빵(팥) {order_p}개, 붕어빵(슈크림) {order_s}개, 붕어빵(잡채) {order_j} 총 {total}개 결제 금액은 {total_pay}원 입니다.')"
      ],
      "metadata": {
        "colab": {
          "base_uri": "https://localhost:8080/"
        },
        "id": "7AR1S1ypgCI3",
        "outputId": "0ae61c63-5b43-459e-fd12-f463e6139487"
      },
      "execution_count": 52,
      "outputs": [
        {
          "output_type": "stream",
          "name": "stdout",
          "text": [
            "붕어빵(팥), 붕어빵(슈크림), 붕어빵(잡채)를 순서대로 개수를 입력하고 꼭 쉼표를 입력하고 그리고 안사는 붕어빵에는 0을 넣어줘. 숫자만!!1, 1, 1\n",
            "주문이 완료되었습니다. 붕어빵(팥) 1개, 붕어빵(슈크림) 1개, 붕어빵(잡채) 1 총 3개 결제 금액은 7500원 입니다.\n"
          ]
        }
      ]
    }
  ]
}