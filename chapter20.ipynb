{
  "nbformat": 4,
  "nbformat_minor": 0,
  "metadata": {
    "colab": {
      "provenance": [],
      "authorship_tag": "ABX9TyO64qEe8XzSxweNhCgb1m19",
      "include_colab_link": true
    },
    "kernelspec": {
      "name": "python3",
      "display_name": "Python 3"
    },
    "language_info": {
      "name": "python"
    }
  },
  "cells": [
    {
      "cell_type": "markdown",
      "metadata": {
        "id": "view-in-github",
        "colab_type": "text"
      },
      "source": [
        "<a href=\"https://colab.research.google.com/github/ds8600/oz_Python_colab/blob/main/chapter20.ipynb\" target=\"_parent\"><img src=\"https://colab.research.google.com/assets/colab-badge.svg\" alt=\"Open In Colab\"/></a>"
      ]
    },
    {
      "cell_type": "code",
      "execution_count": 3,
      "metadata": {
        "colab": {
          "base_uri": "https://localhost:8080/"
        },
        "id": "PcvxZsovw_Jf",
        "outputId": "844ba274-80e4-4af1-a589-69fa41422b2a"
      },
      "outputs": [
        {
          "output_type": "stream",
          "name": "stdout",
          "text": [
            "나눌 숫자를 입력하세요5\n",
            "2.0\n"
          ]
        }
      ],
      "source": [
        "#예외코드 작성\n",
        "\n",
        "try:\n",
        "    x =int(input(\"나눌 숫자를 입력하세요\"))\n",
        "    y = 10/x\n",
        "    print(y)\n",
        "except:\n",
        "    print(\"예외가 발생했습니다.\")"
      ]
    },
    {
      "cell_type": "code",
      "source": [
        "y = [10, 20, 30]\n",
        "try:\n",
        "    index, x = map(int, input(\"나눌 숫자를 입력하세요:\").split(\",\"))\n",
        "    print(y[index]/x)\n",
        "except ZeroDivisionError:\n",
        "    print(\"숫자를 0으로 나눌 수 없습니다.\")\n",
        "except IndexError:\n",
        "    print(\"잘못된 인덱스입니다.\")\n",
        "except:\n",
        "    print(\"에러다\")"
      ],
      "metadata": {
        "colab": {
          "base_uri": "https://localhost:8080/"
        },
        "id": "QvEOrRd40DTV",
        "outputId": "9ee7ab3d-bbad-4eb5-b81e-13f1649c20c6"
      },
      "execution_count": 18,
      "outputs": [
        {
          "output_type": "stream",
          "name": "stdout",
          "text": [
            "나눌 숫자를 입력하세요:2,10\n",
            "3.0\n"
          ]
        }
      ]
    },
    {
      "cell_type": "code",
      "source": [
        "try:\n",
        "    x =int(input(\"나눌 숫자를 입력하세요\"))\n",
        "    y = 10/x\n",
        "    print(y)\n",
        "except:\n",
        "    print(\"예외가 발생했습니다.\")\n",
        "else:\n",
        "    print(y, \"성공하셨습니다.\")"
      ],
      "metadata": {
        "colab": {
          "base_uri": "https://localhost:8080/"
        },
        "id": "-aZSxxWo3KAc",
        "outputId": "4d216e4c-648c-4b07-9df0-ed147eff1e2a"
      },
      "execution_count": 20,
      "outputs": [
        {
          "output_type": "stream",
          "name": "stdout",
          "text": [
            "나눌 숫자를 입력하세요2\n",
            "5.0\n",
            "5.0 성공하셨습니다.\n"
          ]
        }
      ]
    },
    {
      "cell_type": "code",
      "source": [
        "try:\n",
        "    x =int(input(\"나눌 숫자를 입력하세요\"))\n",
        "    y = 10/x\n",
        "    print(y)\n",
        "except:\n",
        "    print(\"예외가 발생했습니다.\")\n",
        "else:\n",
        "    print(\"성공하셨습니다.\")\n",
        "finally:\n",
        "    print(\"코드 실행이 종료되었습니다.\")"
      ],
      "metadata": {
        "colab": {
          "base_uri": "https://localhost:8080/"
        },
        "id": "8Tx07Ld-4NlU",
        "outputId": "ed03a678-ceea-41b8-ebf2-be6b993255bf"
      },
      "execution_count": 23,
      "outputs": [
        {
          "output_type": "stream",
          "name": "stdout",
          "text": [
            "나눌 숫자를 입력하세요문\n",
            "예외가 발생했습니다.\n",
            "코드 실행이 종료되었습니다.\n"
          ]
        }
      ]
    },
    {
      "cell_type": "code",
      "source": [
        "try:\n",
        "    x =int(input(\"나눌 숫자를 입력하세요\"))\n",
        "    y = 10/x\n",
        "    ralse\n",
        "    print(y)\n",
        "except:\n",
        "    print(\"예외가 발생했습니다.\")\n",
        "else:\n",
        "    print(\"성공하셨습니다.\")\n",
        "finally:\n",
        "    print(\"코드 실행이 종료되었습니다.\")"
      ],
      "metadata": {
        "colab": {
          "base_uri": "https://localhost:8080/"
        },
        "id": "NbEkAbie4im0",
        "outputId": "cfbb32d4-34dc-4315-c9c1-94fede8f7f0d"
      },
      "execution_count": 24,
      "outputs": [
        {
          "output_type": "stream",
          "name": "stdout",
          "text": [
            "나눌 숫자를 입력하세요2\n",
            "예외가 발생했습니다.\n",
            "코드 실행이 종료되었습니다.\n"
          ]
        }
      ]
    }
  ]
}