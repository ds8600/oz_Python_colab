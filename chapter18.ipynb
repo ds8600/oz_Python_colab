{
  "nbformat": 4,
  "nbformat_minor": 0,
  "metadata": {
    "colab": {
      "provenance": [],
      "authorship_tag": "ABX9TyNRoH/LNgOxPalXN/zaZnYK",
      "include_colab_link": true
    },
    "kernelspec": {
      "name": "python3",
      "display_name": "Python 3"
    },
    "language_info": {
      "name": "python"
    }
  },
  "cells": [
    {
      "cell_type": "markdown",
      "metadata": {
        "id": "view-in-github",
        "colab_type": "text"
      },
      "source": [
        "<a href=\"https://colab.research.google.com/github/ds8600/oz_Python_colab/blob/main/chapter18.ipynb\" target=\"_parent\"><img src=\"https://colab.research.google.com/assets/colab-badge.svg\" alt=\"Open In Colab\"/></a>"
      ]
    },
    {
      "cell_type": "markdown",
      "source": [
        "# 클래스\n",
        "\n",
        "객체에 해당하는 것들\n",
        "- 게임캐릭터(궁수,성직자 등등)\n",
        "- 집, 나무, 자동차\n",
        "- 네이버 홈페이지 버튼들"
      ],
      "metadata": {
        "id": "k1y8MnPZvxrr"
      }
    },
    {
      "cell_type": "code",
      "execution_count": 2,
      "metadata": {
        "id": "XE6qaxbEvfXk"
      },
      "outputs": [],
      "source": [
        "class 클래스_이름:\n",
        "    def 매시드(self):\n",
        "        코드"
      ]
    },
    {
      "cell_type": "code",
      "source": [
        "class Person:\n",
        "    def hello(self):\n",
        "        print(\"수강생 여러분\")\n",
        "\n",
        "호출 = Person() #인스턴스\n",
        "호출.hello() # .index(), .count()"
      ],
      "metadata": {
        "colab": {
          "base_uri": "https://localhost:8080/"
        },
        "id": "VgG8gijryNML",
        "outputId": "27b88245-70ac-44fe-8b53-6fdac7834d7f"
      },
      "execution_count": 4,
      "outputs": [
        {
          "output_type": "stream",
          "name": "stdout",
          "text": [
            "수강생 여러분\n"
          ]
        }
      ]
    },
    {
      "cell_type": "code",
      "source": [
        "a = int(10)\n",
        "print(a)\n",
        "\n",
        "b = list(range(10))\n",
        "print(b)\n",
        "\n",
        "# 인스턴스와 객체는 같다 but 언제 사용하느냐에 따라 불리는 것이 다름 클래스라는내용이 언급될때 인스턴스, 단일은 객체"
      ],
      "metadata": {
        "colab": {
          "base_uri": "https://localhost:8080/"
        },
        "id": "Y-6upd5qzM6q",
        "outputId": "8663a6be-a1f5-42c9-b21a-830294b5aa82"
      },
      "execution_count": 6,
      "outputs": [
        {
          "output_type": "stream",
          "name": "stdout",
          "text": [
            "10\n",
            "[0, 1, 2, 3, 4, 5, 6, 7, 8, 9]\n"
          ]
        }
      ]
    },
    {
      "cell_type": "code",
      "source": [
        "#class 클래스이름:\n",
        "#    def __init__(self):\n",
        "#        self.속성 = 값\n",
        "\n",
        "class Person:\n",
        "    def __init__(self):\n",
        "        self.hello = \"안녕하세요\"\n",
        "\n",
        "    def greeting(self):\n",
        "        print(self.hello)\n",
        "\n",
        "호출 = Person()\n",
        "호출.greeting()"
      ],
      "metadata": {
        "colab": {
          "base_uri": "https://localhost:8080/"
        },
        "id": "xK-kyJTzzPx7",
        "outputId": "df3d40dd-8b99-4d73-ec2b-fde31bf398b5"
      },
      "execution_count": 11,
      "outputs": [
        {
          "output_type": "stream",
          "name": "stdout",
          "text": [
            "안녕하세요\n"
          ]
        }
      ]
    },
    {
      "cell_type": "code",
      "source": [
        "# 매직매서드\n",
        "print(dir(int))"
      ],
      "metadata": {
        "colab": {
          "base_uri": "https://localhost:8080/"
        },
        "id": "UYyMpDuL1Dqi",
        "outputId": "158bbef3-6579-4fdd-8b2f-d345532f3003"
      },
      "execution_count": 13,
      "outputs": [
        {
          "output_type": "stream",
          "name": "stdout",
          "text": [
            "['__abs__', '__add__', '__and__', '__bool__', '__ceil__', '__class__', '__delattr__', '__dir__', '__divmod__', '__doc__', '__eq__', '__float__', '__floor__', '__floordiv__', '__format__', '__ge__', '__getattribute__', '__getnewargs__', '__getstate__', '__gt__', '__hash__', '__index__', '__init__', '__init_subclass__', '__int__', '__invert__', '__le__', '__lshift__', '__lt__', '__mod__', '__mul__', '__ne__', '__neg__', '__new__', '__or__', '__pos__', '__pow__', '__radd__', '__rand__', '__rdivmod__', '__reduce__', '__reduce_ex__', '__repr__', '__rfloordiv__', '__rlshift__', '__rmod__', '__rmul__', '__ror__', '__round__', '__rpow__', '__rrshift__', '__rshift__', '__rsub__', '__rtruediv__', '__rxor__', '__setattr__', '__sizeof__', '__str__', '__sub__', '__subclasshook__', '__truediv__', '__trunc__', '__xor__', 'as_integer_ratio', 'bit_count', 'bit_length', 'conjugate', 'denominator', 'from_bytes', 'imag', 'is_integer', 'numerator', 'real', 'to_bytes']\n"
          ]
        }
      ]
    },
    {
      "cell_type": "code",
      "source": [
        "# __init__의 매게변수 (self)에 들어가는 값은 Person이라고 할수 있음\n",
        "\n",
        "class 클래스이름:\n",
        "    def __init__(self, 매개변수1, 매개변수2):\n",
        "        self.속성1 = 매개변수1\n",
        "        self.속성2 = 매개변수2"
      ],
      "metadata": {
        "id": "ffvYE8KN1Kij"
      },
      "execution_count": 14,
      "outputs": []
    },
    {
      "cell_type": "code",
      "source": [
        "class Person:\n",
        "    def __init__(self, name, age, address):\n",
        "        self.hello = '안녕하세요.'\n",
        "        self.name = name\n",
        "        self.age = age\n",
        "        self.address = address\n",
        "\n",
        "    def greeting(self):\n",
        "        print('{0} 저는 {1}입니다.'.format(self.hello, self.name))\n",
        "\n",
        "maria = Person('마리아', 20, '서울시 서초구 반포동')\n",
        "saria = Person(\"사리아\", 20, \"경기도 시흥시\")\n",
        "maria.greeting()\n",
        "saria.greeting()\n",
        "\n",
        "# 인스턴스 변수에 접근하여 정보 출력합니다.\n",
        "print('이름:', maria.name)\n",
        "print('나이:', maria.age)\n",
        "print('주소:', maria.address)"
      ],
      "metadata": {
        "colab": {
          "base_uri": "https://localhost:8080/"
        },
        "id": "5XYLQEdX6mBh",
        "outputId": "c0ca74fa-c367-4112-e37d-73433a1c25f4"
      },
      "execution_count": 19,
      "outputs": [
        {
          "output_type": "stream",
          "name": "stdout",
          "text": [
            "안녕하세요. 저는 마리아입니다.\n",
            "안녕하세요. 저는 사리아입니다.\n",
            "이름: 마리아\n",
            "나이: 20\n",
            "주소: 서울시 서초구 반포동\n"
          ]
        }
      ]
    },
    {
      "cell_type": "markdown",
      "source": [
        "## 클래스의 상속  \n"
      ],
      "metadata": {
        "id": "L1RHP6vD9H3Z"
      }
    },
    {
      "cell_type": "code",
      "source": [
        "class Car:\n",
        "    maxspeed = 300\n",
        "    maxpeople = 5\n",
        "\n",
        "    def move(self, x):\n",
        "        return f\"{x}km 스피드로 달리고 있습니다.\"\n",
        "\n",
        "    def stop(self):\n",
        "        print(\"멈췄습니다.\")\n",
        "\n",
        "class HybridCar(Car):\n",
        "    battery = 1000\n",
        "    batteryKM = 300\n",
        "\n",
        "# k5 = HybridCar()\n",
        "# k5.maxspeed\n",
        "# k5.move(200)\n",
        "\n",
        "print(dir(k5))"
      ],
      "metadata": {
        "colab": {
          "base_uri": "https://localhost:8080/"
        },
        "id": "eEGj3ihc9Gfo",
        "outputId": "c975d055-421e-4dae-c81b-a235ecd47c07"
      },
      "execution_count": 44,
      "outputs": [
        {
          "output_type": "stream",
          "name": "stdout",
          "text": [
            "['__class__', '__delattr__', '__dict__', '__dir__', '__doc__', '__eq__', '__format__', '__ge__', '__getattribute__', '__getstate__', '__gt__', '__hash__', '__init__', '__init_subclass__', '__le__', '__lt__', '__module__', '__ne__', '__new__', '__reduce__', '__reduce_ex__', '__repr__', '__setattr__', '__sizeof__', '__str__', '__subclasshook__', '__weakref__', 'battery', 'batteryKM', 'maxpeople', 'maxspeed', 'move', 'stop']\n"
          ]
        }
      ]
    },
    {
      "cell_type": "code",
      "source": [
        "#상속에 상속\n",
        "class ElectricCar(HybridCar):\n",
        "    battery = 1000\n",
        "    batteryKM = 300\n",
        "\n",
        "k5 = HybridCar()\n",
        "\n",
        "electricCark5 = ElectricCar()\n",
        "print(electricCark5.maxspeed)\n"
      ],
      "metadata": {
        "colab": {
          "base_uri": "https://localhost:8080/"
        },
        "id": "E0BYU_pHCj1b",
        "outputId": "c7879b5d-5b3a-4e32-e148-992e2e544b07"
      },
      "execution_count": 46,
      "outputs": [
        {
          "output_type": "stream",
          "name": "stdout",
          "text": [
            "300\n"
          ]
        }
      ]
    },
    {
      "cell_type": "code",
      "source": [
        "print(electricCark5.maxspeed)\n",
        "print(electricCark5.battery)\n",
        "speed = electricCark5.move(10)\n",
        "print(speed)"
      ],
      "metadata": {
        "colab": {
          "base_uri": "https://localhost:8080/"
        },
        "id": "X-e0JnimD7_Z",
        "outputId": "8f770e7a-77de-41ef-925d-9696511c5c3e"
      },
      "execution_count": 47,
      "outputs": [
        {
          "output_type": "stream",
          "name": "stdout",
          "text": [
            "300\n",
            "1000\n",
            "10km 스피드로 달리고 있습니다.\n"
          ]
        }
      ]
    }
  ]
}