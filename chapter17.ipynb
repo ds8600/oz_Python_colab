{
  "nbformat": 4,
  "nbformat_minor": 0,
  "metadata": {
    "colab": {
      "provenance": [],
      "authorship_tag": "ABX9TyOOzX8GmMegqxZAuIEoaJ25",
      "include_colab_link": true
    },
    "kernelspec": {
      "name": "python3",
      "display_name": "Python 3"
    },
    "language_info": {
      "name": "python"
    }
  },
  "cells": [
    {
      "cell_type": "markdown",
      "metadata": {
        "id": "view-in-github",
        "colab_type": "text"
      },
      "source": [
        "<a href=\"https://colab.research.google.com/github/ds8600/oz_Python_colab/blob/main/chapter17.ipynb\" target=\"_parent\"><img src=\"https://colab.research.google.com/assets/colab-badge.svg\" alt=\"Open In Colab\"/></a>"
      ]
    },
    {
      "cell_type": "code",
      "execution_count": null,
      "metadata": {
        "colab": {
          "base_uri": "https://localhost:8080/"
        },
        "id": "ymv5mb-Eu4Fu",
        "outputId": "963fbed2-91bc-427f-a90d-83622a5b91ad"
      },
      "outputs": [
        {
          "output_type": "stream",
          "name": "stdout",
          "text": [
            "양파를 2개 수확했습니다.\n",
            "대파를 수확했습니다.\n"
          ]
        }
      ],
      "source": [
        "def 양파():\n",
        "    print(\"양파를 2개 수확했습니다.\")\n",
        "def 대파():\n",
        "    print(\"대파를 수확했습니다.\")\n",
        "\n",
        "# 함수 호출하기\n",
        "양파()\n",
        "대파()"
      ]
    },
    {
      "cell_type": "code",
      "source": [
        "def 수학():\n",
        "    print(\"올해 비가 많이 내렸습니다.\")\n",
        "    print(\"농작물 수확량이 현저히 줄었습니다.\")\n",
        "\n",
        "수학()"
      ],
      "metadata": {
        "colab": {
          "base_uri": "https://localhost:8080/"
        },
        "id": "-pmJCSpSvX2e",
        "outputId": "253ed89d-7b28-4f3b-8bcb-825d7ea1ed6f"
      },
      "execution_count": null,
      "outputs": [
        {
          "output_type": "stream",
          "name": "stdout",
          "text": [
            "올해 비가 많이 내렸습니다.\n",
            "농작물 수확량이 현저히 줄었습니다.\n"
          ]
        }
      ]
    },
    {
      "cell_type": "code",
      "source": [
        "def function(x,y):\n",
        "    z = x + y\n",
        "    return z\n",
        "    print(\"진짠가요?\")\n",
        "\n",
        "# A등급 10마리, B등급 9마리\n",
        "print(\"옥수수와 수박의 수확량 :\" , function(10,2))"
      ],
      "metadata": {
        "colab": {
          "base_uri": "https://localhost:8080/"
        },
        "id": "DY-G_KO6vv1W",
        "outputId": "e5439b00-672e-4462-c088-2b4a9fbf1c2e"
      },
      "execution_count": null,
      "outputs": [
        {
          "output_type": "stream",
          "name": "stdout",
          "text": [
            "옥수수와 수박의 수확량 : 12\n"
          ]
        }
      ]
    },
    {
      "cell_type": "code",
      "source": [
        "def 수확():\n",
        "    print(\"고라니 2마리를 잡았습니다.\")\n",
        "수확()"
      ],
      "metadata": {
        "colab": {
          "base_uri": "https://localhost:8080/"
        },
        "id": "tkqDcD64w3yd",
        "outputId": "bbfe80c5-ed7e-4928-9844-18cdfcb7495d"
      },
      "execution_count": null,
      "outputs": [
        {
          "output_type": "stream",
          "name": "stdout",
          "text": [
            "고라니 2마리를 잡았습니다.\n"
          ]
        }
      ]
    },
    {
      "cell_type": "code",
      "source": [
        "def function(x,y):\n",
        "    z = x + y\n",
        "    print(z)\n",
        "\n",
        "# A등급 10마리, B등급 9마리\n",
        "print(\"옥수수와 수박의 수확량 :\" , function(10,2))"
      ],
      "metadata": {
        "colab": {
          "base_uri": "https://localhost:8080/"
        },
        "id": "hVl7CMANxCTN",
        "outputId": "59ae01fc-007f-4c5a-901d-0bf10eed4cb1"
      },
      "execution_count": null,
      "outputs": [
        {
          "output_type": "stream",
          "name": "stdout",
          "text": [
            "12\n",
            "옥수수와 수박의 수확량 : None\n"
          ]
        }
      ]
    },
    {
      "cell_type": "code",
      "source": [
        "def 계산(가격, 개수):\n",
        "    return 가격 * 개수\n",
        "print(계산(1000, 5), \"원입니다\")"
      ],
      "metadata": {
        "colab": {
          "base_uri": "https://localhost:8080/"
        },
        "id": "5iQ36AVexNgc",
        "outputId": "33b03858-f3fa-4d3d-ec0d-44f99c336ccc"
      },
      "execution_count": null,
      "outputs": [
        {
          "output_type": "stream",
          "name": "stdout",
          "text": [
            "5000 원입니다\n"
          ]
        }
      ]
    },
    {
      "cell_type": "code",
      "source": [
        "def 계산2(a, b, c):\n",
        "    합계 = a*1000 + b*500 + c*100\n",
        "    return 합계\n",
        "print(계산2(5,2,3), \"원입니다.\")"
      ],
      "metadata": {
        "colab": {
          "base_uri": "https://localhost:8080/"
        },
        "id": "Cbws5KQqxodd",
        "outputId": "d805e389-da3a-45c0-a99a-e479665c49f2"
      },
      "execution_count": null,
      "outputs": [
        {
          "output_type": "stream",
          "name": "stdout",
          "text": [
            "6300 원입니다.\n"
          ]
        }
      ]
    },
    {
      "cell_type": "code",
      "source": [
        "a = 100\n",
        "def f():\n",
        "    global a\n",
        "    a = a+1\n",
        "    return a\n",
        "f()"
      ],
      "metadata": {
        "colab": {
          "base_uri": "https://localhost:8080/"
        },
        "id": "oDsBDU_ihtEQ",
        "outputId": "6de9b07e-93cd-4b2a-aa0f-41f273ef6b78"
      },
      "execution_count": null,
      "outputs": [
        {
          "output_type": "execute_result",
          "data": {
            "text/plain": [
              "101"
            ]
          },
          "metadata": {},
          "execution_count": 3
        }
      ]
    },
    {
      "cell_type": "code",
      "source": [
        "won = {\"A등급\":1000, \"B등급\":500, \"C등급\":100}\n",
        "\n",
        "def 계산2(a, b, c):\n",
        "    합계 = won[\"A등급\"]*a +won[\"B등급\"]*b+won[\"C등급\"]*c\n",
        "    return 합계\n",
        "print(계산2(5,2,3), \"원입니다.\")\n",
        "\n",
        "#전역변수는 바로가져와서 수정하지 못하나 dict 타입은 가능하다."
      ],
      "metadata": {
        "id": "7uyz_B_jiURp",
        "colab": {
          "base_uri": "https://localhost:8080/"
        },
        "outputId": "5895c26d-4437-4474-de47-6e6709d6cd0f"
      },
      "execution_count": 8,
      "outputs": [
        {
          "output_type": "stream",
          "name": "stdout",
          "text": [
            "6300 원입니다.\n"
          ]
        }
      ]
    },
    {
      "cell_type": "code",
      "source": [
        "#상수\n",
        "\n",
        "PI =3.14\n",
        "def circle(r,반지름):\n",
        "    z = r*r*반지름\n",
        "    return z\n",
        "\n",
        "result = circle(10,PI)\n",
        "print(result)\n"
      ],
      "metadata": {
        "colab": {
          "base_uri": "https://localhost:8080/"
        },
        "id": "p7QSxB4zj-GX",
        "outputId": "7077712e-df7e-4ddb-80f6-0e3a2c6dc2a0"
      },
      "execution_count": 10,
      "outputs": [
        {
          "output_type": "stream",
          "name": "stdout",
          "text": [
            "314.0\n"
          ]
        }
      ]
    },
    {
      "cell_type": "code",
      "source": [
        "A = 0\n",
        "B = 0\n",
        "C = 0\n",
        "유물 = 0\n",
        "\n",
        "def 감자():\n",
        "    global A\n",
        "    A +=1\n",
        "\n",
        "def 양파():\n",
        "    global A, B, C\n",
        "    A += 3\n",
        "    B += 3\n",
        "    C += 4\n",
        "\n",
        "def 옥수수():\n",
        "    global 유물\n",
        "    유물 += 1\n",
        "\n",
        "감자()\n",
        "양파()\n",
        "옥수수()\n",
        "\n",
        "합계 = A + B + C + 유물\n",
        "print(\"오늘 수확한 수확물 :\", 합계)"
      ],
      "metadata": {
        "colab": {
          "base_uri": "https://localhost:8080/"
        },
        "id": "fD3InBQAk1Mm",
        "outputId": "5d062a11-f89e-46e9-9f18-31aa732c9a80"
      },
      "execution_count": 11,
      "outputs": [
        {
          "output_type": "stream",
          "name": "stdout",
          "text": [
            "오늘 수확한 수확물 : 12\n"
          ]
        }
      ]
    },
    {
      "cell_type": "code",
      "source": [
        "# 지역변수와 전역변수 공부해보세요."
      ],
      "metadata": {
        "id": "NqZ8VVOXmjcX"
      },
      "execution_count": null,
      "outputs": []
    },
    {
      "cell_type": "markdown",
      "source": [
        "def 함수이름()\n",
        "    코드\n",
        "    def 함수이름2()\n",
        "        코드"
      ],
      "metadata": {
        "id": "KPTSMUXVmsSl"
      }
    },
    {
      "cell_type": "code",
      "source": [
        "def print_text():\n",
        "    text = \"수확의 기쁨\"\n",
        "    def txt():\n",
        "       print(text)\n",
        "    txt()\n",
        "print_text()"
      ],
      "metadata": {
        "colab": {
          "base_uri": "https://localhost:8080/"
        },
        "id": "eADRc5K0m2Om",
        "outputId": "32665126-f400-42d7-9503-c5b5d0078205"
      },
      "execution_count": 12,
      "outputs": [
        {
          "output_type": "stream",
          "name": "stdout",
          "text": [
            "수확의 기쁨\n"
          ]
        }
      ]
    },
    {
      "cell_type": "code",
      "source": [
        "def 수확철():\n",
        "    야채 = {\"A등급\":0, \"B등급\":0, \"C등급\":0}\n",
        "\n",
        "    def 양파():\n",
        "        야채[\"A등급\"] += 1\n",
        "\n",
        "    def 대파():\n",
        "        야채[\"A등급\"] += 3\n",
        "        야채[\"B등급\"] += 3\n",
        "        야채[\"C등급\"] += 4\n",
        "\n",
        "    def 쪽파():\n",
        "        야채[\"금\"] = 1\n",
        "\n",
        "    양파()\n",
        "    대파()\n",
        "    쪽파()\n",
        "\n",
        "    return 야채\n",
        "\n",
        "수확철()\n",
        "sum(수확철().values())"
      ],
      "metadata": {
        "colab": {
          "base_uri": "https://localhost:8080/"
        },
        "id": "2AXS-eCWnWw9",
        "outputId": "6fabe7e9-810d-44eb-a73a-da91a1533ee0"
      },
      "execution_count": 18,
      "outputs": [
        {
          "output_type": "execute_result",
          "data": {
            "text/plain": [
              "12"
            ]
          },
          "metadata": {},
          "execution_count": 18
        }
      ]
    }
  ]
}